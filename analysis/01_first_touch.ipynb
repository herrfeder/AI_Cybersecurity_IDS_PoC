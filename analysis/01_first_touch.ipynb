{
 "cells": [
  {
   "cell_type": "markdown",
   "metadata": {},
   "source": [
    "## Potential Data Sources\n",
    "\n",
    "  * https://www.unsw.adfa.edu.au/unsw-canberra-cyber/cybersecurity/ADFA-NB15-Datasets/\n",
    "  * https://www.kaggle.com/timgoodfellow/nsl-kdd-explorations\n",
    "  * https://www.secrepo.com/\n",
    "  * https://github.com/cyberdefendersprogram/MachineLearning/\n",
    "  * https://maccdc.org/\n",
    "  * https://medium.com/@Flying_glasses/bro-log-file-analysis-using-python-and-pandas-2375cfdaec3f"
   ]
  },
  {
   "cell_type": "code",
   "execution_count": null,
   "metadata": {},
   "outputs": [],
   "source": []
  }
 ],
 "metadata": {
  "kernelspec": {
   "display_name": "Python 3",
   "language": "python",
   "name": "python3"
  },
  "language_info": {
   "codemirror_mode": {
    "name": "ipython",
    "version": 3
   },
   "file_extension": ".py",
   "mimetype": "text/x-python",
   "name": "python",
   "nbconvert_exporter": "python",
   "pygments_lexer": "ipython3",
   "version": "3.6.9"
  }
 },
 "nbformat": 4,
 "nbformat_minor": 4
}
