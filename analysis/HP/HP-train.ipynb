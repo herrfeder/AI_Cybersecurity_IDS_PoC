{
 "cells": [
  {
   "cell_type": "code",
   "execution_count": 1,
   "metadata": {},
   "outputs": [
    {
     "name": "stderr",
     "output_type": "stream",
     "text": [
      "/home/micha/anaconda3/envs/hackathon2/lib/python3.8/site-packages/sklearn/utils/deprecation.py:144: FutureWarning: The sklearn.metrics.scorer module is  deprecated in version 0.22 and will be removed in version 0.24. The corresponding classes / functions should instead be imported from sklearn.metrics. Anything that cannot be imported from sklearn.metrics is now part of the private API.\n",
      "  warnings.warn(message, FutureWarning)\n"
     ]
    }
   ],
   "source": [
    "# MODELLING\n",
    "# Ensamble\n",
    "from sklearn.ensemble import RandomForestClassifier\n",
    "from sklearn.ensemble import BaggingClassifier\n",
    "from sklearn.ensemble import ExtraTreesClassifier\n",
    "from sklearn.ensemble import AdaBoostClassifier\n",
    "from sklearn.ensemble import GradientBoostingClassifier\n",
    "from sklearn.ensemble import VotingClassifier\n",
    "\n",
    "# Naiven\n",
    "from sklearn.naive_bayes import GaussianNB\n",
    "\n",
    "# linear\n",
    "# https://scikit-learn.org/stable/modules/generated/sklearn.linear_model.LogisticRegression.html#sklearn.linear_model.LogisticRegression\n",
    "from sklearn.linear_model import RidgeClassifier\n",
    "from sklearn.linear_model import LogisticRegression\n",
    "\n",
    "# GaussianProcess \n",
    "# https://scikit-learn.org/stable/modules/generated/sklearn.gaussian_process.GaussianProcessClassifier.html\n",
    "from sklearn.gaussian_process import GaussianProcessClassifier\n",
    "from sklearn.gaussian_process.kernels import RBF\n",
    "\n",
    "from sklearn.metrics import confusion_matrix\n",
    "from sklearn.metrics import classification_report\n",
    "from sklearn.metrics import auc\n",
    "from sklearn.metrics import roc_auc_score\n",
    "from sklearn.metrics import roc_curve\n",
    "\n",
    "from sklearn.metrics import precision_recall_fscore_support\n",
    "from sklearn.metrics import precision_score\n",
    "from sklearn.metrics import recall_score\n",
    "from sklearn.metrics import cohen_kappa_score\n",
    "from sklearn.metrics import accuracy_score\n",
    "\n",
    "from sklearn.model_selection import RandomizedSearchCV\n",
    "from scipy.stats import randint as sp_randint\n",
    "\n",
    "\n",
    "\n",
    "from sklearn.model_selection import KFold\n",
    "from sklearn.model_selection import cross_validate\n",
    "from sklearn.metrics.scorer import make_scorer\n",
    "from sklearn.metrics import confusion_matrix\n",
    "from sklearn.metrics import recall_score\n",
    "from sklearn import datasets, linear_model\n",
    "from sklearn.model_selection import cross_val_score\n",
    "\n",
    "from sklearn.model_selection import train_test_split"
   ]
  },
  {
   "cell_type": "code",
   "execution_count": 2,
   "metadata": {},
   "outputs": [],
   "source": [
    "import pandas as pd\n",
    "import numpy as np"
   ]
  },
  {
   "cell_type": "markdown",
   "metadata": {
    "slideshow": {
     "slide_type": "slide"
    }
   },
   "source": [
    "# 3.3 RandomSearch+CrossValidation"
   ]
  },
  {
   "cell_type": "code",
   "execution_count": 4,
   "metadata": {
    "slideshow": {
     "slide_type": "subslide"
    }
   },
   "outputs": [],
   "source": [
    "my_models = [\n",
    "    RandomForestClassifier(),\n",
    "    BaggingClassifier(),\n",
    "    ExtraTreesClassifier(),\n",
    "    AdaBoostClassifier(),\n",
    "    #GradientBoostingClassifier(),\n",
    "    #VotingClassifier(estimators=1000),\n",
    "    GaussianNB(),\n",
    "    #RidgeClassifier(),\n",
    "    LogisticRegression()\n",
    "]\n",
    "\n",
    "my_models_name = [\n",
    "    'RandomForestClassifier (Ensamble)',\n",
    "    'BaggingClassifier (Ensamble)',\n",
    "    'ExtraTreesClassifier (Ensamble)',\n",
    "    'AdaBoostClassifier (Ensamble)',\n",
    "    #'GradientBoostingClassifier (Ensamble)',\n",
    "    'GaussianNB (NaiveBayes)',\n",
    "    #'RidgeClassifier (linear)',\n",
    "    'LogisticRegression (linear)'\n",
    "]"
   ]
  },
  {
   "cell_type": "code",
   "execution_count": null,
   "metadata": {},
   "outputs": [],
   "source": []
  },
  {
   "cell_type": "markdown",
   "metadata": {
    "slideshow": {
     "slide_type": "subslide"
    }
   },
   "source": [
    "# ParameterGrid anlegen ... für jedes Modell bzw. Paramtervariationen abdecken"
   ]
  },
  {
   "cell_type": "code",
   "execution_count": 5,
   "metadata": {
    "slideshow": {
     "slide_type": "fragment"
    }
   },
   "outputs": [],
   "source": [
    "cpu_cores = 7\n",
    "param_dist = [{\"max_depth\": [1,3,5,7,9,11,15,20,35, None],\n",
    "              #\"max_features\": sp_randint(1, 11),\n",
    "              \"min_samples_split\": sp_randint(2, 15),\n",
    "              \"bootstrap\": [True, False],\n",
    "              \"criterion\": [\"gini\", \"entropy\"],\n",
    "              \"class_weight\": [None],\n",
    "              \"max_leaf_nodes\": [None],\n",
    "              \"min_impurity_decrease\": [0.0, 0.1, 0.2],\n",
    "              \"min_impurity_split\": [None],\n",
    "              \"min_samples_leaf\": sp_randint(1, 15),\n",
    "              \"n_estimators\": [50,100,200,300.400],\n",
    "              \"n_jobs\": [cpu_cores],\n",
    "              \"min_weight_fraction_leaf\": [0.0, 0.1, 0.2],\n",
    "              #\"random_state\": [None, 42, 132],\n",
    "              \"warm_start\": [True, False]\n",
    "              },\n",
    "              {\"bootstrap\": [True, False],\n",
    "              \"bootstrap_features\": [True, False],\n",
    "              #\"max_features\": sp_randint(1, 11),\n",
    "              \"max_samples\": [1.0],\n",
    "              \"n_estimators\": [10,50,100,200,500],\n",
    "              \"n_jobs\": [cpu_cores],\n",
    "              #\"random_state\": [None, 42, 132],\n",
    "              \"warm_start\": [True, False]\n",
    "              },\n",
    "              {\"max_depth\": [1,3,5,7,9,11, None],\n",
    "              #\"max_features\": sp_randint(1, 11),\n",
    "              \"min_samples_split\": sp_randint(2, 11),\n",
    "              \"bootstrap\": [True, False],\n",
    "              \"criterion\": [\"gini\", \"entropy\"],\n",
    "              \"class_weight\": [None],\n",
    "              \"max_leaf_nodes\": [None],\n",
    "              \"min_impurity_decrease\": [0.0, 0.1, 0.2],\n",
    "              \"min_impurity_split\": [None],\n",
    "              \"min_samples_leaf\": sp_randint(1, 11),\n",
    "              \"min_samples_split\": sp_randint(2, 11),\n",
    "              \"n_estimators\": [50,100,200,300,400,500],\n",
    "              \"n_jobs\": [cpu_cores],\n",
    "              \"min_weight_fraction_leaf\": [0.0, 0.1, 0.2],\n",
    "              #\"random_state\": [None, 42, 132],\n",
    "              \"warm_start\": [True, False]\n",
    "              },\n",
    "              {\"algorithm\": ['SAMME.R', 'SAMME'],\n",
    "              \"learning_rate\": [1.0],\n",
    "              \"n_estimators\": [10,50,100,200,500],\n",
    "              \"random_state\": [None, 42, 132],\n",
    "              },\n",
    "              #{\"criterion\": ['friedman_mse', 'mse', 'mae'], #mean absolute error (mae).\n",
    "              #\"learning_rate\": [0.1],\n",
    "              #\"loss\": ['deviance', 'exponential'],\n",
    "              #\"max_depth\": sp_randint(3, 7),\n",
    "              #\"min_samples_leaf\": sp_randint(1, 11),\n",
    "              #\"min_samples_split\": sp_randint(2, 11),\n",
    "              #\"n_estimators\": [10,20,30],\n",
    "              #\"min_weight_fraction_leaf\": [0.0, 0.1, 0.2],\n",
    "              #\"random_state\": [42,],\n",
    "              #\"warm_start\": [True, False],\n",
    "              #\"presort\": ['auto'],\n",
    "              #\"subsample\": [1.0],\n",
    "              #\"tol\": [0.0001],\n",
    "              #\"validation_fraction\": [0.1]\n",
    "              #},\n",
    "              {\"var_smoothing\": [1e-09] \n",
    "              },            \n",
    "              {\"C\": [1.0, 0.5, 1.1, 0.9],\n",
    "              \"fit_intercept\": [True, False],\n",
    "              \"intercept_scaling\": sp_randint(1, 11),\n",
    "              \"l1_ratio\": [None],\n",
    "              \"max_iter\": [100,200,500,1000],\n",
    "              \"multi_class\": ['ovr','multinomial','auto'],\n",
    "              \"n_jobs\": [cpu_cores],\n",
    "              \"penalty\": ['l2'],\n",
    "              \"tol\": [0.0001],\n",
    "              #\"random_state\": [None, 42, 132],\n",
    "              \"warm_start\": [True, False],\n",
    "              \"solver\": ['lbfgs', 'sag', 'saga'],\n",
    "              }]\n",
    "\n",
    "#param_dist[0]['max_depth']\n",
    "#param_dist"
   ]
  },
  {
   "cell_type": "code",
   "execution_count": 6,
   "metadata": {
    "slideshow": {
     "slide_type": "skip"
    }
   },
   "outputs": [],
   "source": [
    "#for i in range(len(my_models)):\n",
    "#    print(my_models[i])"
   ]
  },
  {
   "cell_type": "markdown",
   "metadata": {
    "slideshow": {
     "slide_type": "subslide"
    }
   },
   "source": [
    "# Bestes Modell mit HyperparamterOptimierung"
   ]
  },
  {
   "cell_type": "code",
   "execution_count": 7,
   "metadata": {
    "slideshow": {
     "slide_type": "subslide"
    }
   },
   "outputs": [
    {
     "name": "stdout",
     "output_type": "stream",
     "text": [
      "Automatically created module for IPython interactive environment\n"
     ]
    }
   ],
   "source": [
    "print(__doc__)\n",
    "import numpy as np\n",
    "from time import time\n",
    "from scipy.stats import randint as sp_randint\n",
    "from sklearn.model_selection import RandomizedSearchCV\n",
    "import numpy as np\n",
    "from sklearn.model_selection import KFold\n",
    "\n",
    "\n",
    "# SupportMethode die die Scores ausgibt und die besten Paramter zurueck gibt\n",
    "def get_best_params_and_report(results, n_top=3):\n",
    "    for i in range(1, n_top + 1):\n",
    "        candidates = np.flatnonzero(results['rank_test_score'] == i)\n",
    "        for candidate in candidates:\n",
    "            print(\"Model with rank: {0} Mean validation score: {1:.3f} (std: {2:.3f})\".format(i,\n",
    "                  results['mean_test_score'][candidate],\n",
    "                  results['std_test_score'][candidate]))\n",
    "            #print(\"Parameters: {0}\".format(results['params'][candidate]))\n",
    "            #print(\"\")\n",
    "            if i == 1:\n",
    "                bestparams = results['params'][candidate]\n",
    "                bestscore = {'mean':results['mean_test_score'][candidate],'std': results['std_test_score'][candidate]}\n",
    "    return bestparams, bestscore\n",
    "#Stellt das beste Modell bereit\n",
    "\n",
    "def best_opti_fitted_model(model_list,models_name_list,param_dict_list,x,y,xtest,ytest):\n",
    "    xnew = x\n",
    "    ynew = y\n",
    "    xtest = xtest\n",
    "    ytest = ytest\n",
    "    \n",
    "    #die ganzen score arrays ... koennen ausgeduent werden !!!!\n",
    "    precision_array = []\n",
    "    accuracy_array = []\n",
    "    accuracyBalanced_array = []\n",
    "    recall_array = []\n",
    "    TPR_array=[]\n",
    "    TNR_array = []\n",
    "    Fmeasure_array = []\n",
    "    name_array = []\n",
    "    time_to_optimized_hyperParameters = []\n",
    "    #return Values für die rueckgabe\n",
    "    bestACC = 0.0\n",
    "    bestF1 = 0.0\n",
    "    bestPre = 0.0\n",
    "    bestRec = 0.0\n",
    "    bestmodel = 0\n",
    "    bestscoreList = []\n",
    "    bestscoreList2 = []\n",
    "    #RandomizedHyperparamter\n",
    "    n_iter_search = 10\n",
    "   \n",
    "    \n",
    "    for i in range(len(model_list)):\n",
    "        #RandomInitializedModel\n",
    "        random_search = RandomizedSearchCV(my_models[i], param_distributions=param_dict_list[i],n_iter=n_iter_search, cv=5, iid=False)\n",
    "        start = time()\n",
    "        random_search.fit(xnew, ynew)\n",
    "        time_to_optimized_hyperParameters.append(time() - start)\n",
    "        print(\"\\n######### \"+str(models_name_list[i])+\" #########\")\n",
    "        print(\"RandomizedSearchCV took %.2f seconds for %d candidates parameter settings.\" % (time_to_optimized_hyperParameters[i], n_iter_search))\n",
    "        bestparams, bestscore = get_best_params_and_report(random_search.cv_results_)\n",
    "        bestscoreList.append(bestscore['mean'])\n",
    "        bestscoreList2.append(bestscore['std'])\n",
    "        model_list[i] = random_search.best_estimator_\n",
    "        model_list[i].fit(xnew, ynew)\n",
    "\n",
    "        #Berechnung der Scores\n",
    "        precision_array.append(precision_score(ytest, model_list[i].predict(xtest)))\n",
    "        accuracy_array.append(accuracy_score(ytest, model_list[i].predict(xtest)))\n",
    "        recall_array.append(recall_score(ytest, model_list[i].predict(xtest)))\n",
    "        TPR_array.append(recall_score(ytest, model_list[i].predict(xtest)))\n",
    "        TNR_array.append((1-(recall_score(ytest, model_list[i].predict(xtest)))))\n",
    "        Fmeasure_array.append(2*((precision_array[i]*recall_array[i])/(precision_array[i]+recall_array[i])))\n",
    "        accuracyBalanced_array.append( (TNR_array[i]+TPR_array[i])/2 )\n",
    "        name_array.append(models_name_list[i])\n",
    "       \n",
    "        #Selektion Section\n",
    "        tempACC = accuracy_score(ytest, model_list[i].predict(xtest))\n",
    "        tempPre = precision_score(ytest, model_list[i].predict(xtest))\n",
    "        tempF1 = 2*((precision_array[i]*recall_array[i])/(precision_array[i]+recall_array[i]))\n",
    "        tempRec = recall_score(ytest, model_list[i].predict(xtest))\n",
    "        print(tempACC)\n",
    "        if bestF1 < tempF1 and bestPre < tempPre and bestRec < tempRec:\n",
    "        #if bestACC < tempACC:\n",
    "            print('########  Treffer -> Save -> '+str(name_array[i])+' ########')\n",
    "            bestACC = tempACC\n",
    "            bestF1 = tempF1\n",
    "            bestPre = tempPre\n",
    "            bestRec = tempRec\n",
    "            bestIndex = i\n",
    "\n",
    "            bestmodel = model_list[i]\n",
    "    d = {'Model': name_array,\n",
    "    'Precision': precision_array, \n",
    "    'Accuracy': accuracy_array, \n",
    "    'Balanced Accuracy': accuracyBalanced_array,\n",
    "    'Recall': recall_array, \n",
    "    'TPR': TPR_array, \n",
    "    'TNR': TNR_array, \n",
    "    'Fmeasure': Fmeasure_array,\n",
    "    'Opti_MeanValidationScore': bestscoreList,\n",
    "    'Opti_StdScore': bestscoreList2,\n",
    "    'Opti_TimeToHyP': time_to_optimized_hyperParameters}\n",
    "    return pd.DataFrame(data=d), [bestIndex,bestmodel,bestACC,bestPre,bestF1]\n",
    "\n"
   ]
  },
  {
   "cell_type": "markdown",
   "metadata": {
    "slideshow": {
     "slide_type": "skip"
    }
   },
   "source": [
    "### Reset Data"
   ]
  },
  {
   "cell_type": "markdown",
   "metadata": {
    "slideshow": {
     "slide_type": "subslide"
    }
   },
   "source": [
    "### Funktionsweise\n",
    "\n",
    "1. Initialisiert die nötigen Variablen/Container\n",
    "2. Läuft eine Variationskette von möglichen Modellen durch. ! Für jedes Modell\n",
    "3. Fittet das beste Modell in die Modellliste\n",
    "4. Gibt das beste Modell sowie ein DataFrame mit allen nötien Messwerten zurück\n",
    "### Auswahlkriterium\n",
    "Die Selektion findet aufgrund der Bedingung statt, dass das Modell mit dem größten Messungen aus F1, Precision und Recall gewählt wird"
   ]
  },
  {
   "cell_type": "code",
   "execution_count": 8,
   "metadata": {},
   "outputs": [
    {
     "data": {
      "text/html": [
       "<div>\n",
       "<style scoped>\n",
       "    .dataframe tbody tr th:only-of-type {\n",
       "        vertical-align: middle;\n",
       "    }\n",
       "\n",
       "    .dataframe tbody tr th {\n",
       "        vertical-align: top;\n",
       "    }\n",
       "\n",
       "    .dataframe thead th {\n",
       "        text-align: right;\n",
       "    }\n",
       "</style>\n",
       "<table border=\"1\" class=\"dataframe\">\n",
       "  <thead>\n",
       "    <tr style=\"text-align: right;\">\n",
       "      <th></th>\n",
       "      <th>duration</th>\n",
       "      <th>orig_pkts</th>\n",
       "      <th>orig_ip_bytes</th>\n",
       "      <th>resp_pkts</th>\n",
       "      <th>resp_ip_bytes</th>\n",
       "      <th>label</th>\n",
       "    </tr>\n",
       "  </thead>\n",
       "  <tbody>\n",
       "    <tr>\n",
       "      <th>0</th>\n",
       "      <td>0.121478</td>\n",
       "      <td>6</td>\n",
       "      <td>258</td>\n",
       "      <td>4</td>\n",
       "      <td>172</td>\n",
       "      <td>0</td>\n",
       "    </tr>\n",
       "    <tr>\n",
       "      <th>1</th>\n",
       "      <td>0.649902</td>\n",
       "      <td>14</td>\n",
       "      <td>734</td>\n",
       "      <td>38</td>\n",
       "      <td>42014</td>\n",
       "      <td>0</td>\n",
       "    </tr>\n",
       "    <tr>\n",
       "      <th>2</th>\n",
       "      <td>1.623129</td>\n",
       "      <td>8</td>\n",
       "      <td>364</td>\n",
       "      <td>16</td>\n",
       "      <td>13186</td>\n",
       "      <td>0</td>\n",
       "    </tr>\n",
       "    <tr>\n",
       "      <th>3</th>\n",
       "      <td>1.681642</td>\n",
       "      <td>12</td>\n",
       "      <td>628</td>\n",
       "      <td>12</td>\n",
       "      <td>770</td>\n",
       "      <td>0</td>\n",
       "    </tr>\n",
       "    <tr>\n",
       "      <th>4</th>\n",
       "      <td>0.449454</td>\n",
       "      <td>10</td>\n",
       "      <td>534</td>\n",
       "      <td>6</td>\n",
       "      <td>268</td>\n",
       "      <td>0</td>\n",
       "    </tr>\n",
       "    <tr>\n",
       "      <th>...</th>\n",
       "      <td>...</td>\n",
       "      <td>...</td>\n",
       "      <td>...</td>\n",
       "      <td>...</td>\n",
       "      <td>...</td>\n",
       "      <td>...</td>\n",
       "    </tr>\n",
       "    <tr>\n",
       "      <th>257668</th>\n",
       "      <td>0.000005</td>\n",
       "      <td>2</td>\n",
       "      <td>104</td>\n",
       "      <td>0</td>\n",
       "      <td>0</td>\n",
       "      <td>0</td>\n",
       "    </tr>\n",
       "    <tr>\n",
       "      <th>257669</th>\n",
       "      <td>1.106101</td>\n",
       "      <td>20</td>\n",
       "      <td>18062</td>\n",
       "      <td>8</td>\n",
       "      <td>354</td>\n",
       "      <td>0</td>\n",
       "    </tr>\n",
       "    <tr>\n",
       "      <th>257670</th>\n",
       "      <td>0.000000</td>\n",
       "      <td>1</td>\n",
       "      <td>46</td>\n",
       "      <td>0</td>\n",
       "      <td>0</td>\n",
       "      <td>0</td>\n",
       "    </tr>\n",
       "    <tr>\n",
       "      <th>257671</th>\n",
       "      <td>0.000000</td>\n",
       "      <td>1</td>\n",
       "      <td>46</td>\n",
       "      <td>0</td>\n",
       "      <td>0</td>\n",
       "      <td>0</td>\n",
       "    </tr>\n",
       "    <tr>\n",
       "      <th>257672</th>\n",
       "      <td>0.000009</td>\n",
       "      <td>2</td>\n",
       "      <td>104</td>\n",
       "      <td>0</td>\n",
       "      <td>0</td>\n",
       "      <td>0</td>\n",
       "    </tr>\n",
       "  </tbody>\n",
       "</table>\n",
       "<p>257673 rows × 6 columns</p>\n",
       "</div>"
      ],
      "text/plain": [
       "        duration  orig_pkts  orig_ip_bytes  resp_pkts  resp_ip_bytes  label\n",
       "0       0.121478          6            258          4            172      0\n",
       "1       0.649902         14            734         38          42014      0\n",
       "2       1.623129          8            364         16          13186      0\n",
       "3       1.681642         12            628         12            770      0\n",
       "4       0.449454         10            534          6            268      0\n",
       "...          ...        ...            ...        ...            ...    ...\n",
       "257668  0.000005          2            104          0              0      0\n",
       "257669  1.106101         20          18062          8            354      0\n",
       "257670  0.000000          1             46          0              0      0\n",
       "257671  0.000000          1             46          0              0      0\n",
       "257672  0.000009          2            104          0              0      0\n",
       "\n",
       "[257673 rows x 6 columns]"
      ]
     },
     "execution_count": 8,
     "metadata": {},
     "output_type": "execute_result"
    }
   ],
   "source": [
    "df = pd.read_pickle('unsw-small.pickle')\n",
    "df"
   ]
  },
  {
   "cell_type": "code",
   "execution_count": 9,
   "metadata": {},
   "outputs": [],
   "source": [
    "#df = df[0:150000]"
   ]
  },
  {
   "cell_type": "code",
   "execution_count": 10,
   "metadata": {},
   "outputs": [
    {
     "name": "stdout",
     "output_type": "stream",
     "text": [
      "(257673, 6)\n",
      "(257673, 5) (257673,)\n"
     ]
    }
   ],
   "source": [
    "print(df.shape)\n",
    "# split into input and output elements\n",
    "data = df.values\n",
    "x, y = data[:, :-1], data[:, -1]\n",
    "\n",
    "print(x.shape, y.shape)"
   ]
  },
  {
   "cell_type": "code",
   "execution_count": 11,
   "metadata": {},
   "outputs": [
    {
     "data": {
      "text/plain": [
       "array([0., 0., 0., ..., 0., 0., 0.])"
      ]
     },
     "execution_count": 11,
     "metadata": {},
     "output_type": "execute_result"
    }
   ],
   "source": [
    "x; y"
   ]
  },
  {
   "cell_type": "code",
   "execution_count": 12,
   "metadata": {
    "slideshow": {
     "slide_type": "subslide"
    }
   },
   "outputs": [
    {
     "name": "stdout",
     "output_type": "stream",
     "text": [
      "(206138, 5)\n",
      "(51535, 5)\n",
      "(206138,)\n",
      "(51535,)\n"
     ]
    }
   ],
   "source": [
    "xnew_train, xnew_test, ynew_train, ynew_test = train_test_split(x, y, test_size = 0.2, random_state = 42)\n",
    "print(xnew_train.shape)\n",
    "print(xnew_test.shape)\n",
    "print(ynew_train.shape)\n",
    "print(ynew_test.shape)"
   ]
  },
  {
   "cell_type": "code",
   "execution_count": 13,
   "metadata": {},
   "outputs": [],
   "source": [
    "import warnings\n",
    "warnings.simplefilter(\"ignore\")"
   ]
  },
  {
   "cell_type": "code",
   "execution_count": 14,
   "metadata": {
    "slideshow": {
     "slide_type": "subslide"
    }
   },
   "outputs": [
    {
     "name": "stdout",
     "output_type": "stream",
     "text": [
      "\n",
      "######### RandomForestClassifier (Ensamble) #########\n",
      "RandomizedSearchCV took 49.98 seconds for 10 candidates parameter settings.\n",
      "Model with rank: 1 Mean validation score: 0.917 (std: 0.002)\n",
      "Model with rank: 2 Mean validation score: 0.781 (std: 0.010)\n",
      "Model with rank: 3 Mean validation score: 0.773 (std: 0.004)\n",
      "0.9184631803628602\n",
      "########  Treffer -> Save -> RandomForestClassifier (Ensamble) ########\n",
      "\n",
      "######### BaggingClassifier (Ensamble) #########\n",
      "RandomizedSearchCV took 696.41 seconds for 10 candidates parameter settings.\n",
      "Model with rank: 1 Mean validation score: 0.929 (std: 0.001)\n",
      "Model with rank: 2 Mean validation score: 0.929 (std: 0.001)\n",
      "Model with rank: 3 Mean validation score: 0.929 (std: 0.001)\n",
      "0.9298923061996701\n",
      "\n",
      "######### ExtraTreesClassifier (Ensamble) #########\n",
      "RandomizedSearchCV took 57.38 seconds for 10 candidates parameter settings.\n",
      "Model with rank: 1 Mean validation score: 0.639 (std: 0.000)\n",
      "Model with rank: 1 Mean validation score: 0.639 (std: 0.000)\n",
      "Model with rank: 1 Mean validation score: 0.639 (std: 0.000)\n",
      "Model with rank: 1 Mean validation score: 0.639 (std: 0.000)\n",
      "Model with rank: 1 Mean validation score: 0.639 (std: 0.000)\n",
      "Model with rank: 1 Mean validation score: 0.639 (std: 0.000)\n",
      "Model with rank: 1 Mean validation score: 0.639 (std: 0.000)\n",
      "Model with rank: 1 Mean validation score: 0.639 (std: 0.000)\n",
      "Model with rank: 1 Mean validation score: 0.639 (std: 0.000)\n",
      "Model with rank: 1 Mean validation score: 0.639 (std: 0.000)\n",
      "0.6388279809837974\n",
      "\n",
      "######### AdaBoostClassifier (Ensamble) #########\n",
      "RandomizedSearchCV took 243.65 seconds for 10 candidates parameter settings.\n",
      "Model with rank: 1 Mean validation score: 0.878 (std: 0.003)\n",
      "Model with rank: 1 Mean validation score: 0.878 (std: 0.003)\n",
      "Model with rank: 3 Mean validation score: 0.874 (std: 0.003)\n",
      "0.8761424274764723\n",
      "\n",
      "######### GaussianNB (NaiveBayes) #########\n",
      "RandomizedSearchCV took 0.19 seconds for 10 candidates parameter settings.\n",
      "Model with rank: 1 Mean validation score: 0.372 (std: 0.001)\n",
      "0.3729310177549238\n",
      "\n",
      "######### LogisticRegression (linear) #########\n",
      "RandomizedSearchCV took 450.39 seconds for 10 candidates parameter settings.\n",
      "Model with rank: 1 Mean validation score: 0.677 (std: 0.004)\n",
      "Model with rank: 1 Mean validation score: 0.677 (std: 0.004)\n",
      "Model with rank: 1 Mean validation score: 0.677 (std: 0.004)\n",
      "Model with rank: 1 Mean validation score: 0.677 (std: 0.004)\n",
      "0.674900553022218\n"
     ]
    }
   ],
   "source": [
    "#Mehtode wird ausgeführt ... kann dauern\n",
    "dataframe_with_scores, bestmodel = best_opti_fitted_model(my_models,my_models_name,param_dist,xnew_train,ynew_train,xnew_test,ynew_test)"
   ]
  },
  {
   "cell_type": "markdown",
   "metadata": {
    "slideshow": {
     "slide_type": "slide"
    }
   },
   "source": [
    "# 3.3.1 BestScoredModel"
   ]
  },
  {
   "cell_type": "code",
   "execution_count": 15,
   "metadata": {
    "slideshow": {
     "slide_type": "subslide"
    }
   },
   "outputs": [
    {
     "data": {
      "text/plain": [
       "[0,\n",
       " RandomForestClassifier(bootstrap=True, ccp_alpha=0.0, class_weight=None,\n",
       "                        criterion='gini', max_depth=11, max_features='auto',\n",
       "                        max_leaf_nodes=None, max_samples=None,\n",
       "                        min_impurity_decrease=0.0, min_impurity_split=None,\n",
       "                        min_samples_leaf=11, min_samples_split=5,\n",
       "                        min_weight_fraction_leaf=0.0, n_estimators=50, n_jobs=7,\n",
       "                        oob_score=False, random_state=None, verbose=0,\n",
       "                        warm_start=True),\n",
       " 0.9184631803628602,\n",
       " 0.9091867555707528,\n",
       " 0.9382204187250058]"
      ]
     },
     "execution_count": 15,
     "metadata": {},
     "output_type": "execute_result"
    }
   ],
   "source": [
    "bestmodel"
   ]
  },
  {
   "cell_type": "markdown",
   "metadata": {
    "slideshow": {
     "slide_type": "slide"
    }
   },
   "source": [
    "# 3.3.2 ScoredModelList"
   ]
  },
  {
   "cell_type": "code",
   "execution_count": 16,
   "metadata": {
    "slideshow": {
     "slide_type": "subslide"
    }
   },
   "outputs": [
    {
     "data": {
      "text/html": [
       "<div>\n",
       "<style scoped>\n",
       "    .dataframe tbody tr th:only-of-type {\n",
       "        vertical-align: middle;\n",
       "    }\n",
       "\n",
       "    .dataframe tbody tr th {\n",
       "        vertical-align: top;\n",
       "    }\n",
       "\n",
       "    .dataframe thead th {\n",
       "        text-align: right;\n",
       "    }\n",
       "</style>\n",
       "<table border=\"1\" class=\"dataframe\">\n",
       "  <thead>\n",
       "    <tr style=\"text-align: right;\">\n",
       "      <th></th>\n",
       "      <th>Model</th>\n",
       "      <th>Precision</th>\n",
       "      <th>Accuracy</th>\n",
       "      <th>Balanced Accuracy</th>\n",
       "      <th>Recall</th>\n",
       "      <th>TPR</th>\n",
       "      <th>TNR</th>\n",
       "      <th>Fmeasure</th>\n",
       "      <th>Opti_MeanValidationScore</th>\n",
       "      <th>Opti_StdScore</th>\n",
       "      <th>Opti_TimeToHyP</th>\n",
       "    </tr>\n",
       "  </thead>\n",
       "  <tbody>\n",
       "    <tr>\n",
       "      <th>0</th>\n",
       "      <td>RandomForestClassifier (Ensamble)</td>\n",
       "      <td>0.909187</td>\n",
       "      <td>0.918463</td>\n",
       "      <td>0.5</td>\n",
       "      <td>0.969170</td>\n",
       "      <td>0.969170</td>\n",
       "      <td>0.030830</td>\n",
       "      <td>0.938220</td>\n",
       "      <td>0.917080</td>\n",
       "      <td>0.001654</td>\n",
       "      <td>49.983503</td>\n",
       "    </tr>\n",
       "    <tr>\n",
       "      <th>1</th>\n",
       "      <td>BaggingClassifier (Ensamble)</td>\n",
       "      <td>0.941787</td>\n",
       "      <td>0.929892</td>\n",
       "      <td>0.5</td>\n",
       "      <td>0.948910</td>\n",
       "      <td>0.948910</td>\n",
       "      <td>0.051090</td>\n",
       "      <td>0.945335</td>\n",
       "      <td>0.928975</td>\n",
       "      <td>0.000951</td>\n",
       "      <td>696.405794</td>\n",
       "    </tr>\n",
       "    <tr>\n",
       "      <th>2</th>\n",
       "      <td>ExtraTreesClassifier (Ensamble)</td>\n",
       "      <td>0.638828</td>\n",
       "      <td>0.638828</td>\n",
       "      <td>0.5</td>\n",
       "      <td>1.000000</td>\n",
       "      <td>1.000000</td>\n",
       "      <td>0.000000</td>\n",
       "      <td>0.779616</td>\n",
       "      <td>0.639140</td>\n",
       "      <td>0.000010</td>\n",
       "      <td>57.382447</td>\n",
       "    </tr>\n",
       "    <tr>\n",
       "      <th>3</th>\n",
       "      <td>AdaBoostClassifier (Ensamble)</td>\n",
       "      <td>0.862664</td>\n",
       "      <td>0.876142</td>\n",
       "      <td>0.5</td>\n",
       "      <td>0.958751</td>\n",
       "      <td>0.958751</td>\n",
       "      <td>0.041249</td>\n",
       "      <td>0.908173</td>\n",
       "      <td>0.877698</td>\n",
       "      <td>0.002732</td>\n",
       "      <td>243.654159</td>\n",
       "    </tr>\n",
       "    <tr>\n",
       "      <th>4</th>\n",
       "      <td>GaussianNB (NaiveBayes)</td>\n",
       "      <td>0.653651</td>\n",
       "      <td>0.372931</td>\n",
       "      <td>0.5</td>\n",
       "      <td>0.039153</td>\n",
       "      <td>0.039153</td>\n",
       "      <td>0.960847</td>\n",
       "      <td>0.073881</td>\n",
       "      <td>0.372071</td>\n",
       "      <td>0.000619</td>\n",
       "      <td>0.189601</td>\n",
       "    </tr>\n",
       "    <tr>\n",
       "      <th>5</th>\n",
       "      <td>LogisticRegression (linear)</td>\n",
       "      <td>0.672227</td>\n",
       "      <td>0.674901</td>\n",
       "      <td>0.5</td>\n",
       "      <td>0.958417</td>\n",
       "      <td>0.958417</td>\n",
       "      <td>0.041583</td>\n",
       "      <td>0.790208</td>\n",
       "      <td>0.676823</td>\n",
       "      <td>0.003856</td>\n",
       "      <td>450.393185</td>\n",
       "    </tr>\n",
       "  </tbody>\n",
       "</table>\n",
       "</div>"
      ],
      "text/plain": [
       "                               Model  Precision  Accuracy  Balanced Accuracy  \\\n",
       "0  RandomForestClassifier (Ensamble)   0.909187  0.918463                0.5   \n",
       "1       BaggingClassifier (Ensamble)   0.941787  0.929892                0.5   \n",
       "2    ExtraTreesClassifier (Ensamble)   0.638828  0.638828                0.5   \n",
       "3      AdaBoostClassifier (Ensamble)   0.862664  0.876142                0.5   \n",
       "4            GaussianNB (NaiveBayes)   0.653651  0.372931                0.5   \n",
       "5        LogisticRegression (linear)   0.672227  0.674901                0.5   \n",
       "\n",
       "     Recall       TPR       TNR  Fmeasure  Opti_MeanValidationScore  \\\n",
       "0  0.969170  0.969170  0.030830  0.938220                  0.917080   \n",
       "1  0.948910  0.948910  0.051090  0.945335                  0.928975   \n",
       "2  1.000000  1.000000  0.000000  0.779616                  0.639140   \n",
       "3  0.958751  0.958751  0.041249  0.908173                  0.877698   \n",
       "4  0.039153  0.039153  0.960847  0.073881                  0.372071   \n",
       "5  0.958417  0.958417  0.041583  0.790208                  0.676823   \n",
       "\n",
       "   Opti_StdScore  Opti_TimeToHyP  \n",
       "0       0.001654       49.983503  \n",
       "1       0.000951      696.405794  \n",
       "2       0.000010       57.382447  \n",
       "3       0.002732      243.654159  \n",
       "4       0.000619        0.189601  \n",
       "5       0.003856      450.393185  "
      ]
     },
     "execution_count": 16,
     "metadata": {},
     "output_type": "execute_result"
    }
   ],
   "source": [
    "dataframe_with_scores.head(10)"
   ]
  },
  {
   "cell_type": "markdown",
   "metadata": {
    "slideshow": {
     "slide_type": "subslide"
    }
   },
   "source": [
    "# 3.3.3 Sorted ScoredModelList"
   ]
  },
  {
   "cell_type": "code",
   "execution_count": 17,
   "metadata": {
    "slideshow": {
     "slide_type": "subslide"
    }
   },
   "outputs": [
    {
     "data": {
      "text/html": [
       "<div>\n",
       "<style scoped>\n",
       "    .dataframe tbody tr th:only-of-type {\n",
       "        vertical-align: middle;\n",
       "    }\n",
       "\n",
       "    .dataframe tbody tr th {\n",
       "        vertical-align: top;\n",
       "    }\n",
       "\n",
       "    .dataframe thead th {\n",
       "        text-align: right;\n",
       "    }\n",
       "</style>\n",
       "<table border=\"1\" class=\"dataframe\">\n",
       "  <thead>\n",
       "    <tr style=\"text-align: right;\">\n",
       "      <th></th>\n",
       "      <th>Model</th>\n",
       "      <th>Precision</th>\n",
       "      <th>Accuracy</th>\n",
       "      <th>Balanced Accuracy</th>\n",
       "      <th>Recall</th>\n",
       "      <th>TPR</th>\n",
       "      <th>TNR</th>\n",
       "      <th>Fmeasure</th>\n",
       "      <th>Opti_MeanValidationScore</th>\n",
       "      <th>Opti_StdScore</th>\n",
       "      <th>Opti_TimeToHyP</th>\n",
       "    </tr>\n",
       "  </thead>\n",
       "  <tbody>\n",
       "    <tr>\n",
       "      <th>1</th>\n",
       "      <td>BaggingClassifier (Ensamble)</td>\n",
       "      <td>0.941787</td>\n",
       "      <td>0.929892</td>\n",
       "      <td>0.5</td>\n",
       "      <td>0.948910</td>\n",
       "      <td>0.948910</td>\n",
       "      <td>0.051090</td>\n",
       "      <td>0.945335</td>\n",
       "      <td>0.928975</td>\n",
       "      <td>0.000951</td>\n",
       "      <td>696.405794</td>\n",
       "    </tr>\n",
       "    <tr>\n",
       "      <th>0</th>\n",
       "      <td>RandomForestClassifier (Ensamble)</td>\n",
       "      <td>0.909187</td>\n",
       "      <td>0.918463</td>\n",
       "      <td>0.5</td>\n",
       "      <td>0.969170</td>\n",
       "      <td>0.969170</td>\n",
       "      <td>0.030830</td>\n",
       "      <td>0.938220</td>\n",
       "      <td>0.917080</td>\n",
       "      <td>0.001654</td>\n",
       "      <td>49.983503</td>\n",
       "    </tr>\n",
       "    <tr>\n",
       "      <th>3</th>\n",
       "      <td>AdaBoostClassifier (Ensamble)</td>\n",
       "      <td>0.862664</td>\n",
       "      <td>0.876142</td>\n",
       "      <td>0.5</td>\n",
       "      <td>0.958751</td>\n",
       "      <td>0.958751</td>\n",
       "      <td>0.041249</td>\n",
       "      <td>0.908173</td>\n",
       "      <td>0.877698</td>\n",
       "      <td>0.002732</td>\n",
       "      <td>243.654159</td>\n",
       "    </tr>\n",
       "    <tr>\n",
       "      <th>5</th>\n",
       "      <td>LogisticRegression (linear)</td>\n",
       "      <td>0.672227</td>\n",
       "      <td>0.674901</td>\n",
       "      <td>0.5</td>\n",
       "      <td>0.958417</td>\n",
       "      <td>0.958417</td>\n",
       "      <td>0.041583</td>\n",
       "      <td>0.790208</td>\n",
       "      <td>0.676823</td>\n",
       "      <td>0.003856</td>\n",
       "      <td>450.393185</td>\n",
       "    </tr>\n",
       "    <tr>\n",
       "      <th>4</th>\n",
       "      <td>GaussianNB (NaiveBayes)</td>\n",
       "      <td>0.653651</td>\n",
       "      <td>0.372931</td>\n",
       "      <td>0.5</td>\n",
       "      <td>0.039153</td>\n",
       "      <td>0.039153</td>\n",
       "      <td>0.960847</td>\n",
       "      <td>0.073881</td>\n",
       "      <td>0.372071</td>\n",
       "      <td>0.000619</td>\n",
       "      <td>0.189601</td>\n",
       "    </tr>\n",
       "    <tr>\n",
       "      <th>2</th>\n",
       "      <td>ExtraTreesClassifier (Ensamble)</td>\n",
       "      <td>0.638828</td>\n",
       "      <td>0.638828</td>\n",
       "      <td>0.5</td>\n",
       "      <td>1.000000</td>\n",
       "      <td>1.000000</td>\n",
       "      <td>0.000000</td>\n",
       "      <td>0.779616</td>\n",
       "      <td>0.639140</td>\n",
       "      <td>0.000010</td>\n",
       "      <td>57.382447</td>\n",
       "    </tr>\n",
       "  </tbody>\n",
       "</table>\n",
       "</div>"
      ],
      "text/plain": [
       "                               Model  Precision  Accuracy  Balanced Accuracy  \\\n",
       "1       BaggingClassifier (Ensamble)   0.941787  0.929892                0.5   \n",
       "0  RandomForestClassifier (Ensamble)   0.909187  0.918463                0.5   \n",
       "3      AdaBoostClassifier (Ensamble)   0.862664  0.876142                0.5   \n",
       "5        LogisticRegression (linear)   0.672227  0.674901                0.5   \n",
       "4            GaussianNB (NaiveBayes)   0.653651  0.372931                0.5   \n",
       "2    ExtraTreesClassifier (Ensamble)   0.638828  0.638828                0.5   \n",
       "\n",
       "     Recall       TPR       TNR  Fmeasure  Opti_MeanValidationScore  \\\n",
       "1  0.948910  0.948910  0.051090  0.945335                  0.928975   \n",
       "0  0.969170  0.969170  0.030830  0.938220                  0.917080   \n",
       "3  0.958751  0.958751  0.041249  0.908173                  0.877698   \n",
       "5  0.958417  0.958417  0.041583  0.790208                  0.676823   \n",
       "4  0.039153  0.039153  0.960847  0.073881                  0.372071   \n",
       "2  1.000000  1.000000  0.000000  0.779616                  0.639140   \n",
       "\n",
       "   Opti_StdScore  Opti_TimeToHyP  \n",
       "1       0.000951      696.405794  \n",
       "0       0.001654       49.983503  \n",
       "3       0.002732      243.654159  \n",
       "5       0.003856      450.393185  \n",
       "4       0.000619        0.189601  \n",
       "2       0.000010       57.382447  "
      ]
     },
     "execution_count": 17,
     "metadata": {},
     "output_type": "execute_result"
    }
   ],
   "source": [
    "dataframe_with_scores.sort_values(by=['Precision','Fmeasure','Accuracy'], ascending=False).head(10)"
   ]
  },
  {
   "cell_type": "code",
   "execution_count": 18,
   "metadata": {
    "slideshow": {
     "slide_type": "subslide"
    }
   },
   "outputs": [
    {
     "data": {
      "text/html": [
       "<div>\n",
       "<style scoped>\n",
       "    .dataframe tbody tr th:only-of-type {\n",
       "        vertical-align: middle;\n",
       "    }\n",
       "\n",
       "    .dataframe tbody tr th {\n",
       "        vertical-align: top;\n",
       "    }\n",
       "\n",
       "    .dataframe thead th {\n",
       "        text-align: right;\n",
       "    }\n",
       "</style>\n",
       "<table border=\"1\" class=\"dataframe\">\n",
       "  <thead>\n",
       "    <tr style=\"text-align: right;\">\n",
       "      <th></th>\n",
       "      <th>Model</th>\n",
       "      <th>Precision</th>\n",
       "      <th>Accuracy</th>\n",
       "      <th>Balanced Accuracy</th>\n",
       "      <th>Recall</th>\n",
       "      <th>TPR</th>\n",
       "      <th>TNR</th>\n",
       "      <th>Fmeasure</th>\n",
       "      <th>Opti_MeanValidationScore</th>\n",
       "      <th>Opti_StdScore</th>\n",
       "      <th>Opti_TimeToHyP</th>\n",
       "    </tr>\n",
       "  </thead>\n",
       "  <tbody>\n",
       "    <tr>\n",
       "      <th>1</th>\n",
       "      <td>BaggingClassifier (Ensamble)</td>\n",
       "      <td>0.941787</td>\n",
       "      <td>0.929892</td>\n",
       "      <td>0.5</td>\n",
       "      <td>0.948910</td>\n",
       "      <td>0.948910</td>\n",
       "      <td>0.051090</td>\n",
       "      <td>0.945335</td>\n",
       "      <td>0.928975</td>\n",
       "      <td>0.000951</td>\n",
       "      <td>696.405794</td>\n",
       "    </tr>\n",
       "    <tr>\n",
       "      <th>0</th>\n",
       "      <td>RandomForestClassifier (Ensamble)</td>\n",
       "      <td>0.909187</td>\n",
       "      <td>0.918463</td>\n",
       "      <td>0.5</td>\n",
       "      <td>0.969170</td>\n",
       "      <td>0.969170</td>\n",
       "      <td>0.030830</td>\n",
       "      <td>0.938220</td>\n",
       "      <td>0.917080</td>\n",
       "      <td>0.001654</td>\n",
       "      <td>49.983503</td>\n",
       "    </tr>\n",
       "    <tr>\n",
       "      <th>3</th>\n",
       "      <td>AdaBoostClassifier (Ensamble)</td>\n",
       "      <td>0.862664</td>\n",
       "      <td>0.876142</td>\n",
       "      <td>0.5</td>\n",
       "      <td>0.958751</td>\n",
       "      <td>0.958751</td>\n",
       "      <td>0.041249</td>\n",
       "      <td>0.908173</td>\n",
       "      <td>0.877698</td>\n",
       "      <td>0.002732</td>\n",
       "      <td>243.654159</td>\n",
       "    </tr>\n",
       "    <tr>\n",
       "      <th>5</th>\n",
       "      <td>LogisticRegression (linear)</td>\n",
       "      <td>0.672227</td>\n",
       "      <td>0.674901</td>\n",
       "      <td>0.5</td>\n",
       "      <td>0.958417</td>\n",
       "      <td>0.958417</td>\n",
       "      <td>0.041583</td>\n",
       "      <td>0.790208</td>\n",
       "      <td>0.676823</td>\n",
       "      <td>0.003856</td>\n",
       "      <td>450.393185</td>\n",
       "    </tr>\n",
       "  </tbody>\n",
       "</table>\n",
       "</div>"
      ],
      "text/plain": [
       "                               Model  Precision  Accuracy  Balanced Accuracy  \\\n",
       "1       BaggingClassifier (Ensamble)   0.941787  0.929892                0.5   \n",
       "0  RandomForestClassifier (Ensamble)   0.909187  0.918463                0.5   \n",
       "3      AdaBoostClassifier (Ensamble)   0.862664  0.876142                0.5   \n",
       "5        LogisticRegression (linear)   0.672227  0.674901                0.5   \n",
       "\n",
       "     Recall       TPR       TNR  Fmeasure  Opti_MeanValidationScore  \\\n",
       "1  0.948910  0.948910  0.051090  0.945335                  0.928975   \n",
       "0  0.969170  0.969170  0.030830  0.938220                  0.917080   \n",
       "3  0.958751  0.958751  0.041249  0.908173                  0.877698   \n",
       "5  0.958417  0.958417  0.041583  0.790208                  0.676823   \n",
       "\n",
       "   Opti_StdScore  Opti_TimeToHyP  \n",
       "1       0.000951      696.405794  \n",
       "0       0.001654       49.983503  \n",
       "3       0.002732      243.654159  \n",
       "5       0.003856      450.393185  "
      ]
     },
     "execution_count": 18,
     "metadata": {},
     "output_type": "execute_result"
    }
   ],
   "source": [
    "dataframe_with_scores.sort_values(by=['Precision','Fmeasure','Accuracy'], ascending=False).iloc[0:4]"
   ]
  },
  {
   "cell_type": "code",
   "execution_count": 19,
   "metadata": {
    "slideshow": {
     "slide_type": "subslide"
    }
   },
   "outputs": [
    {
     "data": {
      "text/html": [
       "<div>\n",
       "<style scoped>\n",
       "    .dataframe tbody tr th:only-of-type {\n",
       "        vertical-align: middle;\n",
       "    }\n",
       "\n",
       "    .dataframe tbody tr th {\n",
       "        vertical-align: top;\n",
       "    }\n",
       "\n",
       "    .dataframe thead th {\n",
       "        text-align: right;\n",
       "    }\n",
       "</style>\n",
       "<table border=\"1\" class=\"dataframe\">\n",
       "  <thead>\n",
       "    <tr style=\"text-align: right;\">\n",
       "      <th></th>\n",
       "      <th>Model</th>\n",
       "      <th>Precision</th>\n",
       "      <th>Accuracy</th>\n",
       "      <th>Balanced Accuracy</th>\n",
       "      <th>Recall</th>\n",
       "      <th>TPR</th>\n",
       "      <th>TNR</th>\n",
       "      <th>Fmeasure</th>\n",
       "      <th>Opti_MeanValidationScore</th>\n",
       "      <th>Opti_StdScore</th>\n",
       "      <th>Opti_TimeToHyP</th>\n",
       "    </tr>\n",
       "  </thead>\n",
       "  <tbody>\n",
       "    <tr>\n",
       "      <th>1</th>\n",
       "      <td>BaggingClassifier (Ensamble)</td>\n",
       "      <td>0.941787</td>\n",
       "      <td>0.929892</td>\n",
       "      <td>0.5</td>\n",
       "      <td>0.948910</td>\n",
       "      <td>0.948910</td>\n",
       "      <td>0.051090</td>\n",
       "      <td>0.945335</td>\n",
       "      <td>0.928975</td>\n",
       "      <td>0.000951</td>\n",
       "      <td>696.405794</td>\n",
       "    </tr>\n",
       "    <tr>\n",
       "      <th>0</th>\n",
       "      <td>RandomForestClassifier (Ensamble)</td>\n",
       "      <td>0.909187</td>\n",
       "      <td>0.918463</td>\n",
       "      <td>0.5</td>\n",
       "      <td>0.969170</td>\n",
       "      <td>0.969170</td>\n",
       "      <td>0.030830</td>\n",
       "      <td>0.938220</td>\n",
       "      <td>0.917080</td>\n",
       "      <td>0.001654</td>\n",
       "      <td>49.983503</td>\n",
       "    </tr>\n",
       "    <tr>\n",
       "      <th>3</th>\n",
       "      <td>AdaBoostClassifier (Ensamble)</td>\n",
       "      <td>0.862664</td>\n",
       "      <td>0.876142</td>\n",
       "      <td>0.5</td>\n",
       "      <td>0.958751</td>\n",
       "      <td>0.958751</td>\n",
       "      <td>0.041249</td>\n",
       "      <td>0.908173</td>\n",
       "      <td>0.877698</td>\n",
       "      <td>0.002732</td>\n",
       "      <td>243.654159</td>\n",
       "    </tr>\n",
       "    <tr>\n",
       "      <th>5</th>\n",
       "      <td>LogisticRegression (linear)</td>\n",
       "      <td>0.672227</td>\n",
       "      <td>0.674901</td>\n",
       "      <td>0.5</td>\n",
       "      <td>0.958417</td>\n",
       "      <td>0.958417</td>\n",
       "      <td>0.041583</td>\n",
       "      <td>0.790208</td>\n",
       "      <td>0.676823</td>\n",
       "      <td>0.003856</td>\n",
       "      <td>450.393185</td>\n",
       "    </tr>\n",
       "    <tr>\n",
       "      <th>2</th>\n",
       "      <td>ExtraTreesClassifier (Ensamble)</td>\n",
       "      <td>0.638828</td>\n",
       "      <td>0.638828</td>\n",
       "      <td>0.5</td>\n",
       "      <td>1.000000</td>\n",
       "      <td>1.000000</td>\n",
       "      <td>0.000000</td>\n",
       "      <td>0.779616</td>\n",
       "      <td>0.639140</td>\n",
       "      <td>0.000010</td>\n",
       "      <td>57.382447</td>\n",
       "    </tr>\n",
       "    <tr>\n",
       "      <th>4</th>\n",
       "      <td>GaussianNB (NaiveBayes)</td>\n",
       "      <td>0.653651</td>\n",
       "      <td>0.372931</td>\n",
       "      <td>0.5</td>\n",
       "      <td>0.039153</td>\n",
       "      <td>0.039153</td>\n",
       "      <td>0.960847</td>\n",
       "      <td>0.073881</td>\n",
       "      <td>0.372071</td>\n",
       "      <td>0.000619</td>\n",
       "      <td>0.189601</td>\n",
       "    </tr>\n",
       "  </tbody>\n",
       "</table>\n",
       "</div>"
      ],
      "text/plain": [
       "                               Model  Precision  Accuracy  Balanced Accuracy  \\\n",
       "1       BaggingClassifier (Ensamble)   0.941787  0.929892                0.5   \n",
       "0  RandomForestClassifier (Ensamble)   0.909187  0.918463                0.5   \n",
       "3      AdaBoostClassifier (Ensamble)   0.862664  0.876142                0.5   \n",
       "5        LogisticRegression (linear)   0.672227  0.674901                0.5   \n",
       "2    ExtraTreesClassifier (Ensamble)   0.638828  0.638828                0.5   \n",
       "4            GaussianNB (NaiveBayes)   0.653651  0.372931                0.5   \n",
       "\n",
       "     Recall       TPR       TNR  Fmeasure  Opti_MeanValidationScore  \\\n",
       "1  0.948910  0.948910  0.051090  0.945335                  0.928975   \n",
       "0  0.969170  0.969170  0.030830  0.938220                  0.917080   \n",
       "3  0.958751  0.958751  0.041249  0.908173                  0.877698   \n",
       "5  0.958417  0.958417  0.041583  0.790208                  0.676823   \n",
       "2  1.000000  1.000000  0.000000  0.779616                  0.639140   \n",
       "4  0.039153  0.039153  0.960847  0.073881                  0.372071   \n",
       "\n",
       "   Opti_StdScore  Opti_TimeToHyP  \n",
       "1       0.000951      696.405794  \n",
       "0       0.001654       49.983503  \n",
       "3       0.002732      243.654159  \n",
       "5       0.003856      450.393185  \n",
       "2       0.000010       57.382447  \n",
       "4       0.000619        0.189601  "
      ]
     },
     "execution_count": 19,
     "metadata": {},
     "output_type": "execute_result"
    }
   ],
   "source": [
    "dataframe_with_scores.sort_values(by=['Fmeasure'], ascending=False).iloc[0:10]"
   ]
  },
  {
   "cell_type": "code",
   "execution_count": 20,
   "metadata": {},
   "outputs": [
    {
     "data": {
      "text/plain": [
       "[RandomForestClassifier(bootstrap=True, ccp_alpha=0.0, class_weight=None,\n",
       "                        criterion='gini', max_depth=11, max_features='auto',\n",
       "                        max_leaf_nodes=None, max_samples=None,\n",
       "                        min_impurity_decrease=0.0, min_impurity_split=None,\n",
       "                        min_samples_leaf=11, min_samples_split=5,\n",
       "                        min_weight_fraction_leaf=0.0, n_estimators=50, n_jobs=7,\n",
       "                        oob_score=False, random_state=None, verbose=0,\n",
       "                        warm_start=True),\n",
       " BaggingClassifier(base_estimator=None, bootstrap=True, bootstrap_features=False,\n",
       "                   max_features=1.0, max_samples=1.0, n_estimators=500, n_jobs=7,\n",
       "                   oob_score=False, random_state=None, verbose=0,\n",
       "                   warm_start=False),\n",
       " ExtraTreesClassifier(bootstrap=False, ccp_alpha=0.0, class_weight=None,\n",
       "                      criterion='entropy', max_depth=1, max_features='auto',\n",
       "                      max_leaf_nodes=None, max_samples=None,\n",
       "                      min_impurity_decrease=0.1, min_impurity_split=None,\n",
       "                      min_samples_leaf=9, min_samples_split=9,\n",
       "                      min_weight_fraction_leaf=0.1, n_estimators=50, n_jobs=7,\n",
       "                      oob_score=False, random_state=None, verbose=0,\n",
       "                      warm_start=False),\n",
       " AdaBoostClassifier(algorithm='SAMME.R', base_estimator=None, learning_rate=1.0,\n",
       "                    n_estimators=100, random_state=None),\n",
       " GaussianNB(priors=None, var_smoothing=1e-09),\n",
       " LogisticRegression(C=0.9, class_weight=None, dual=False, fit_intercept=False,\n",
       "                    intercept_scaling=1, l1_ratio=None, max_iter=500,\n",
       "                    multi_class='multinomial', n_jobs=7, penalty='l2',\n",
       "                    random_state=None, solver='saga', tol=0.0001, verbose=0,\n",
       "                    warm_start=True)]"
      ]
     },
     "execution_count": 20,
     "metadata": {},
     "output_type": "execute_result"
    }
   ],
   "source": [
    "my_models"
   ]
  },
  {
   "cell_type": "code",
   "execution_count": 31,
   "metadata": {},
   "outputs": [],
   "source": [
    "import joblib\n",
    "import seaborn as sns\n",
    "import pandas as pd\n",
    "import numpy as np\n",
    "import seaborn as sns\n",
    "import matplotlib.pyplot as plt\n",
    "from sklearn.metrics import confusion_matrix\n",
    "\n",
    "from sklearn.metrics import roc_auc_score\n",
    "from sklearn.metrics import roc_curve\n",
    "from sklearn.metrics import plot_roc_curve"
   ]
  },
  {
   "cell_type": "markdown",
   "metadata": {},
   "source": []
  },
  {
   "cell_type": "code",
   "execution_count": 26,
   "metadata": {},
   "outputs": [],
   "source": [
    "for i in range(len(my_models)):\n",
    "    joblib.dump(my_models[i], \"AI_Cybersecurity_IDS_PoC/analysis/model/\"+str(my_models_name[i])+\"_HP_opti.joblib\")"
   ]
  },
  {
   "cell_type": "code",
   "execution_count": 34,
   "metadata": {},
   "outputs": [],
   "source": [
    "sns.set(style=\"ticks\", context=\"talk\", rc={'figure.figsize':(10.0,8.00)})\n",
    "plt.style.use(\"dark_background\")\n",
    "sns.set_context(\"talk\")\n",
    "#colormap = sns.color_palette(\"rocket_r\", as_cmap=True)\n",
    "#colormap = sns.color_palette(\"YlOrBr\", as_cmap=True)\n",
    "#colormap = sns.color_palette(\"vlag\", as_cmap=True)\n",
    "colormap = sns.color_palette(\"light:b\", as_cmap=True)\n",
    "#colormap = sns.color_palette(\"magma\", as_cmap=True)"
   ]
  },
  {
   "cell_type": "markdown",
   "metadata": {
    "slideshow": {
     "slide_type": "slide"
    }
   },
   "source": [
    "# 3.3.4 Performance Visualitation"
   ]
  },
  {
   "cell_type": "code",
   "execution_count": 35,
   "metadata": {
    "slideshow": {
     "slide_type": "subslide"
    }
   },
   "outputs": [
    {
     "data": {
      "image/png": "[encoded data removed]",
      "text/plain": [
       "<Figure size 1224x720 with 1 Axes>"
      ]
     },
     "metadata": {},
     "output_type": "display_data"
    }
   ],
   "source": [
    "rf_roc_auc_array = []\n",
    "fpr_array = []\n",
    "tpr_array = []\n",
    "thresholds_array = []\n",
    "\n",
    "\n",
    "\n",
    "plt.figure(figsize=(17,10))\n",
    "for i in range(len(my_models)):\n",
    "    rf_roc_auc_array.append(roc_auc_score(ynew_test, my_models[i].predict(xnew_test)))\n",
    "    fpr, tpr, thresholds = roc_curve(ynew_test, my_models[i].predict_proba(xnew_test)[:,1])\n",
    "    fpr_array.append(fpr)\n",
    "    tpr_array.append(tpr)\n",
    "    thresholds_array.append(thresholds)\n",
    "    plt.plot(fpr, tpr, label=my_models_name[i]+' (area = %0.2f)' % rf_roc_auc_array[i])\n",
    "\n",
    "plt.plot([0, 1], [0, 1],'r--')\n",
    "plt.xlim([0.0, 1.0])\n",
    "plt.ylim([0.0, 1.05])\n",
    "plt.xlabel('False Positive Rate / Falsch erkannte Treffer')\n",
    "plt.ylabel('True Positive Rate / Richtig erkannte Treffer')\n",
    "plt.title('Receiver operating characteristic - ROC-Graph -> Optimierte Modelle')\n",
    "plt.legend(loc=\"lower right\")\n",
    "plt.savefig('RF_ROC_opti3')\n",
    "plt.show()"
   ]
  },
  {
   "cell_type": "markdown",
   "metadata": {
    "slideshow": {
     "slide_type": "subslide"
    }
   },
   "source": [
    "<table>\n",
    "  <thead>\n",
    "    <tr>\n",
    "      <th>Standard ModelConfig</th>\n",
    "      <th>Optimized ModelConfig</th>\n",
    "    </tr>\n",
    "  </thead>\n",
    "  <tbody>\n",
    "    <tr>\n",
    "      <td><img src=\"RF_ROC.png\" alt=\"RF_ROC-StandardModels\" title=\"\" /></td>\n",
    "      <td><img src=\"RF_ROC_opti3.png\" alt=\"RF_ROC-OptiModels\" title=\"\" /></td>\n",
    "    </tr>\n",
    "  </tbody>\n",
    "</table>"
   ]
  }
 ],
 "metadata": {
  "kernelspec": {
   "display_name": "Python 3",
   "language": "python",
   "name": "python3"
  },
  "language_info": {
   "codemirror_mode": {
    "name": "ipython",
    "version": 3
   },
   "file_extension": ".py",
   "mimetype": "text/x-python",
   "name": "python",
   "nbconvert_exporter": "python",
   "pygments_lexer": "ipython3",
   "version": "3.8.5"
  }
 },
 "nbformat": 4,
 "nbformat_minor": 4
}
