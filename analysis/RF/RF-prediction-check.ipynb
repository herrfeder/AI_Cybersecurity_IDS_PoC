{
 "cells": [
  {
   "cell_type": "code",
   "execution_count": 5,
   "metadata": {},
   "outputs": [
    {
     "name": "stdout",
     "output_type": "stream",
     "text": [
      "/home/micha/0_Dev/HACKATHON/AI_Cybersecurity_IDS_PoC/analysis/RF\n"
     ]
    }
   ],
   "source": [
    "!pwd"
   ]
  },
  {
   "cell_type": "code",
   "execution_count": 6,
   "metadata": {},
   "outputs": [],
   "source": [
    "import numpy as np\n",
    "import pandas as pd\n",
    "import seaborn as sns\n",
    "from tqdm.notebook import tqdm\n",
    "import matplotlib.pyplot as plt\n",
    "\n",
    "from sklearn.preprocessing import MinMaxScaler    \n",
    "from sklearn.model_selection import train_test_split\n",
    "from sklearn.metrics import confusion_matrix, classification_report"
   ]
  },
  {
   "cell_type": "code",
   "execution_count": 7,
   "metadata": {},
   "outputs": [],
   "source": [
    "#df = pd.read_pickle('../data/conn_202011241955.pickle')\n",
    "df_test = pd.read_pickle('../data/unsw-small.pickle')"
   ]
  },
  {
   "cell_type": "code",
   "execution_count": 8,
   "metadata": {},
   "outputs": [],
   "source": [
    "#df_test.rename(columns={\"spkts\": \"orig_pkts\", \"dpkts\": \"resp_pkts\", \"sbytes\": \"orig_ip_bytes\", \"dbytes\": \"resp_ip_bytes\"}, errors=\"raise\", inplace=True)"
   ]
  },
  {
   "cell_type": "code",
   "execution_count": 11,
   "metadata": {},
   "outputs": [],
   "source": [
    "df_new = df_test"
   ]
  },
  {
   "cell_type": "markdown",
   "metadata": {},
   "source": [
    "No.,Name,Type ,Description\n",
    "* 7,dur,Float,Record total duration\n",
    "\n",
    "* 8,sbytes,Integer,Source to destination transaction bytes (orig_ip_bytes)\n",
    "* 9,dbytes,Integer,Destination to source transaction bytes (resp_ip_bytes)\n",
    "\n",
    "* 15,Sload,Float,Source bits per second ((orig_ip_bytes/8) * orig_pkts)\n",
    "* 16,Dload,Float,Destination bits per second ((resp_ip_bytes/8) * resp_pkts)\n",
    "\n",
    "* 17,Spkts,integer,Source to destination packet count (orig_pkts)\n",
    "* 18,Dpkts,integer,Destination to source packet count (resp_pkts)\n",
    "\n",
    "* 23,smeansz,integer,Mean of the ?ow packet size transmitted by the src \n",
    "* 24,dmeansz,integer,Mean of the ?ow packet size transmitted by the dst\n",
    "\n",
    "* 48,attack_cat,nominal,\"The name of each attack category. In this data set , nine categories e.g. Fuzzers, Analysis, Backdoors, DoS Exploits, Generic, Reconnaissance, Shellcode and Worms\"\n",
    "* 49,Label,binary,0 for normal and 1 for attack records"
   ]
  },
  {
   "cell_type": "code",
   "execution_count": 7,
   "metadata": {},
   "outputs": [],
   "source": [
    "#del df_new['Unnamed: 0']\n",
    "#del df_new['id']"
   ]
  },
  {
   "cell_type": "code",
   "execution_count": 10,
   "metadata": {},
   "outputs": [
    {
     "data": {
      "text/plain": [
       "\"\\ndel df_new['ct_dst_sport_ltm']\\ndel df_new['ct_dst_src_ltm']\\ndel df_new['is_ftp_login']\\ndel df_new['ct_ftp_cmd']\\ndel df_new['ct_flw_http_mthd']\\ndel df_new['ct_src_ltm']\\ndel df_new['ct_srv_dst']\\ndel df_new['is_sm_ips_ports']\\ndel df_new['trans_depth']\\ndel df_new['response_body_len']\\ndel df_new['ct_srv_src']\\ndel df_new['ct_state_ttl']\\ndel df_new['ct_dst_ltm']\\ndel df_new['ct_src_dport_ltm']\\t \\t \\t \\ndel df_new['proto']\\ndel df_new['service']\\ndel df_new['state']\\ndel df_new['dwin']\\ndel df_new['tcprtt']\\ndel df_new['synack']\\ndel df_new['ackdat']\\ndel df_new['sloss']\\ndel df_new['dloss']\\ndel df_new['stcpb']\\ndel df_new['dtcpb']\\ndel df_new['smean'] #orig_ip_bytes / orig_pkts\\ndel df_new['dmean'] #resp_ip_bytes / resp_pkts\\ndel df_new['sttl']\\ndel df_new['dttl']\\ndel df_new['sload']\\ndel df_new['dload']\\ndel df_new['sinpkt']\\ndel df_new['dinpkt']\\ndel df_new['sjit']\\ndel df_new['djit']\\ndel df_new['swin']\\n\""
      ]
     },
     "execution_count": 10,
     "metadata": {},
     "output_type": "execute_result"
    }
   ],
   "source": [
    "\"\"\"\n",
    "del df_new['ct_dst_sport_ltm']\n",
    "del df_new['ct_dst_src_ltm']\n",
    "del df_new['is_ftp_login']\n",
    "del df_new['ct_ftp_cmd']\n",
    "del df_new['ct_flw_http_mthd']\n",
    "del df_new['ct_src_ltm']\n",
    "del df_new['ct_srv_dst']\n",
    "del df_new['is_sm_ips_ports']\n",
    "del df_new['trans_depth']\n",
    "del df_new['response_body_len']\n",
    "del df_new['ct_srv_src']\n",
    "del df_new['ct_state_ttl']\n",
    "del df_new['ct_dst_ltm']\n",
    "del df_new['ct_src_dport_ltm']\t \t \t \n",
    "del df_new['proto']\n",
    "del df_new['service']\n",
    "del df_new['state']\n",
    "del df_new['dwin']\n",
    "del df_new['tcprtt']\n",
    "del df_new['synack']\n",
    "del df_new['ackdat']\n",
    "del df_new['sloss']\n",
    "del df_new['dloss']\n",
    "del df_new['stcpb']\n",
    "del df_new['dtcpb']\n",
    "del df_new['smean'] #orig_ip_bytes / orig_pkts\n",
    "del df_new['dmean'] #resp_ip_bytes / resp_pkts\n",
    "del df_new['sttl']\n",
    "del df_new['dttl']\n",
    "del df_new['sload']\n",
    "del df_new['dload']\n",
    "del df_new['sinpkt']\n",
    "del df_new['dinpkt']\n",
    "del df_new['sjit']\n",
    "del df_new['djit']\n",
    "del df_new['swin']\n",
    "\"\"\"\n"
   ]
  },
  {
   "cell_type": "code",
   "execution_count": 12,
   "metadata": {},
   "outputs": [
    {
     "name": "stdout",
     "output_type": "stream",
     "text": [
      "<class 'pandas.core.frame.DataFrame'>\n",
      "RangeIndex: 257673 entries, 0 to 257672\n",
      "Data columns (total 6 columns):\n",
      " #   Column         Non-Null Count   Dtype  \n",
      "---  ------         --------------   -----  \n",
      " 0   duration       257673 non-null  float64\n",
      " 1   orig_pkts      257673 non-null  int64  \n",
      " 2   orig_ip_bytes  257673 non-null  int64  \n",
      " 3   resp_pkts      257673 non-null  int64  \n",
      " 4   resp_ip_bytes  257673 non-null  int64  \n",
      " 5   label          257673 non-null  int64  \n",
      "dtypes: float64(1), int64(5)\n",
      "memory usage: 11.8 MB\n"
     ]
    }
   ],
   "source": [
    "df_new.info()"
   ]
  },
  {
   "cell_type": "code",
   "execution_count": 13,
   "metadata": {},
   "outputs": [
    {
     "data": {
      "text/html": [
       "<div>\n",
       "<style scoped>\n",
       "    .dataframe tbody tr th:only-of-type {\n",
       "        vertical-align: middle;\n",
       "    }\n",
       "\n",
       "    .dataframe tbody tr th {\n",
       "        vertical-align: top;\n",
       "    }\n",
       "\n",
       "    .dataframe thead th {\n",
       "        text-align: right;\n",
       "    }\n",
       "</style>\n",
       "<table border=\"1\" class=\"dataframe\">\n",
       "  <thead>\n",
       "    <tr style=\"text-align: right;\">\n",
       "      <th></th>\n",
       "      <th>duration</th>\n",
       "      <th>orig_pkts</th>\n",
       "      <th>orig_ip_bytes</th>\n",
       "      <th>resp_pkts</th>\n",
       "      <th>resp_ip_bytes</th>\n",
       "      <th>label</th>\n",
       "    </tr>\n",
       "  </thead>\n",
       "  <tbody>\n",
       "    <tr>\n",
       "      <th>0</th>\n",
       "      <td>0.121478</td>\n",
       "      <td>6</td>\n",
       "      <td>258</td>\n",
       "      <td>4</td>\n",
       "      <td>172</td>\n",
       "      <td>0</td>\n",
       "    </tr>\n",
       "    <tr>\n",
       "      <th>1</th>\n",
       "      <td>0.649902</td>\n",
       "      <td>14</td>\n",
       "      <td>734</td>\n",
       "      <td>38</td>\n",
       "      <td>42014</td>\n",
       "      <td>0</td>\n",
       "    </tr>\n",
       "    <tr>\n",
       "      <th>2</th>\n",
       "      <td>1.623129</td>\n",
       "      <td>8</td>\n",
       "      <td>364</td>\n",
       "      <td>16</td>\n",
       "      <td>13186</td>\n",
       "      <td>0</td>\n",
       "    </tr>\n",
       "    <tr>\n",
       "      <th>3</th>\n",
       "      <td>1.681642</td>\n",
       "      <td>12</td>\n",
       "      <td>628</td>\n",
       "      <td>12</td>\n",
       "      <td>770</td>\n",
       "      <td>0</td>\n",
       "    </tr>\n",
       "    <tr>\n",
       "      <th>4</th>\n",
       "      <td>0.449454</td>\n",
       "      <td>10</td>\n",
       "      <td>534</td>\n",
       "      <td>6</td>\n",
       "      <td>268</td>\n",
       "      <td>0</td>\n",
       "    </tr>\n",
       "    <tr>\n",
       "      <th>...</th>\n",
       "      <td>...</td>\n",
       "      <td>...</td>\n",
       "      <td>...</td>\n",
       "      <td>...</td>\n",
       "      <td>...</td>\n",
       "      <td>...</td>\n",
       "    </tr>\n",
       "    <tr>\n",
       "      <th>257668</th>\n",
       "      <td>0.000005</td>\n",
       "      <td>2</td>\n",
       "      <td>104</td>\n",
       "      <td>0</td>\n",
       "      <td>0</td>\n",
       "      <td>0</td>\n",
       "    </tr>\n",
       "    <tr>\n",
       "      <th>257669</th>\n",
       "      <td>1.106101</td>\n",
       "      <td>20</td>\n",
       "      <td>18062</td>\n",
       "      <td>8</td>\n",
       "      <td>354</td>\n",
       "      <td>0</td>\n",
       "    </tr>\n",
       "    <tr>\n",
       "      <th>257670</th>\n",
       "      <td>0.000000</td>\n",
       "      <td>1</td>\n",
       "      <td>46</td>\n",
       "      <td>0</td>\n",
       "      <td>0</td>\n",
       "      <td>0</td>\n",
       "    </tr>\n",
       "    <tr>\n",
       "      <th>257671</th>\n",
       "      <td>0.000000</td>\n",
       "      <td>1</td>\n",
       "      <td>46</td>\n",
       "      <td>0</td>\n",
       "      <td>0</td>\n",
       "      <td>0</td>\n",
       "    </tr>\n",
       "    <tr>\n",
       "      <th>257672</th>\n",
       "      <td>0.000009</td>\n",
       "      <td>2</td>\n",
       "      <td>104</td>\n",
       "      <td>0</td>\n",
       "      <td>0</td>\n",
       "      <td>0</td>\n",
       "    </tr>\n",
       "  </tbody>\n",
       "</table>\n",
       "<p>257673 rows × 6 columns</p>\n",
       "</div>"
      ],
      "text/plain": [
       "        duration  orig_pkts  orig_ip_bytes  resp_pkts  resp_ip_bytes  label\n",
       "0       0.121478          6            258          4            172      0\n",
       "1       0.649902         14            734         38          42014      0\n",
       "2       1.623129          8            364         16          13186      0\n",
       "3       1.681642         12            628         12            770      0\n",
       "4       0.449454         10            534          6            268      0\n",
       "...          ...        ...            ...        ...            ...    ...\n",
       "257668  0.000005          2            104          0              0      0\n",
       "257669  1.106101         20          18062          8            354      0\n",
       "257670  0.000000          1             46          0              0      0\n",
       "257671  0.000000          1             46          0              0      0\n",
       "257672  0.000009          2            104          0              0      0\n",
       "\n",
       "[257673 rows x 6 columns]"
      ]
     },
     "execution_count": 13,
     "metadata": {},
     "output_type": "execute_result"
    }
   ],
   "source": [
    "df_new"
   ]
  },
  {
   "cell_type": "markdown",
   "metadata": {},
   "source": [
    "# Columns bzw. names anpassen"
   ]
  },
  {
   "cell_type": "code",
   "execution_count": 15,
   "metadata": {},
   "outputs": [
    {
     "data": {
      "text/plain": [
       "\"\\ndf.reset_index(inplace=True)\\ndel df['ts']\\ndel df['uid']\\ndel df['id.orig_h']\\ndel df['id.orig_p']\\ndel df['id.resp_h']\\ndel df['id.resp_p']\\ndel df['proto']\\ndel df['service']\\ndel df['tunnel_parents']\\ndel df['history']\\ndel df['local_orig']\\ndel df['local_resp']\\ndel df['conn_state']\\ndel df['missed_bytes']\\n\""
      ]
     },
     "execution_count": 15,
     "metadata": {},
     "output_type": "execute_result"
    }
   ],
   "source": [
    "\"\"\"\n",
    "df.reset_index(inplace=True)\n",
    "del df['ts']\n",
    "del df['uid']\n",
    "del df['id.orig_h']\n",
    "del df['id.orig_p']\n",
    "del df['id.resp_h']\n",
    "del df['id.resp_p']\n",
    "del df['proto']\n",
    "del df['service']\n",
    "del df['tunnel_parents']\n",
    "del df['history']\n",
    "del df['local_orig']\n",
    "del df['local_resp']\n",
    "del df['conn_state']\n",
    "del df['missed_bytes']\n",
    "\"\"\"\n"
   ]
  },
  {
   "cell_type": "code",
   "execution_count": 18,
   "metadata": {},
   "outputs": [],
   "source": [
    "#df.info()"
   ]
  },
  {
   "cell_type": "code",
   "execution_count": 19,
   "metadata": {},
   "outputs": [],
   "source": [
    "#df_david = df[['duration','orig_pkts','orig_ip_bytes','resp_pkts','resp_ip_bytes','orig_bytes','resp_bytes']]"
   ]
  },
  {
   "cell_type": "code",
   "execution_count": 20,
   "metadata": {},
   "outputs": [],
   "source": [
    "#df_david.reset_index(inplace=True)"
   ]
  },
  {
   "cell_type": "code",
   "execution_count": 17,
   "metadata": {},
   "outputs": [],
   "source": [
    "#df_david"
   ]
  },
  {
   "cell_type": "code",
   "execution_count": 18,
   "metadata": {},
   "outputs": [],
   "source": [
    "#del df_david['index']"
   ]
  },
  {
   "cell_type": "code",
   "execution_count": 21,
   "metadata": {},
   "outputs": [],
   "source": [
    "#df_david"
   ]
  },
  {
   "cell_type": "code",
   "execution_count": 22,
   "metadata": {},
   "outputs": [
    {
     "name": "stdout",
     "output_type": "stream",
     "text": [
      "<class 'pandas.core.frame.DataFrame'>\n",
      "RangeIndex: 257673 entries, 0 to 257672\n",
      "Data columns (total 6 columns):\n",
      " #   Column         Non-Null Count   Dtype  \n",
      "---  ------         --------------   -----  \n",
      " 0   duration       257673 non-null  float64\n",
      " 1   orig_pkts      257673 non-null  int64  \n",
      " 2   orig_ip_bytes  257673 non-null  int64  \n",
      " 3   resp_pkts      257673 non-null  int64  \n",
      " 4   resp_ip_bytes  257673 non-null  int64  \n",
      " 5   label          257673 non-null  int64  \n",
      "dtypes: float64(1), int64(5)\n",
      "memory usage: 11.8 MB\n"
     ]
    }
   ],
   "source": [
    "df_new.info()"
   ]
  },
  {
   "cell_type": "code",
   "execution_count": 21,
   "metadata": {},
   "outputs": [],
   "source": [
    "#df_new.rename(columns={\"dur\": \"duration\"}, errors=\"raise\", inplace=True)"
   ]
  },
  {
   "cell_type": "code",
   "execution_count": 23,
   "metadata": {},
   "outputs": [
    {
     "data": {
      "text/html": [
       "<div>\n",
       "<style scoped>\n",
       "    .dataframe tbody tr th:only-of-type {\n",
       "        vertical-align: middle;\n",
       "    }\n",
       "\n",
       "    .dataframe tbody tr th {\n",
       "        vertical-align: top;\n",
       "    }\n",
       "\n",
       "    .dataframe thead th {\n",
       "        text-align: right;\n",
       "    }\n",
       "</style>\n",
       "<table border=\"1\" class=\"dataframe\">\n",
       "  <thead>\n",
       "    <tr style=\"text-align: right;\">\n",
       "      <th></th>\n",
       "      <th>duration</th>\n",
       "      <th>orig_pkts</th>\n",
       "      <th>orig_ip_bytes</th>\n",
       "      <th>resp_pkts</th>\n",
       "      <th>resp_ip_bytes</th>\n",
       "      <th>label</th>\n",
       "    </tr>\n",
       "  </thead>\n",
       "  <tbody>\n",
       "    <tr>\n",
       "      <th>0</th>\n",
       "      <td>0.121478</td>\n",
       "      <td>6</td>\n",
       "      <td>258</td>\n",
       "      <td>4</td>\n",
       "      <td>172</td>\n",
       "      <td>0</td>\n",
       "    </tr>\n",
       "    <tr>\n",
       "      <th>1</th>\n",
       "      <td>0.649902</td>\n",
       "      <td>14</td>\n",
       "      <td>734</td>\n",
       "      <td>38</td>\n",
       "      <td>42014</td>\n",
       "      <td>0</td>\n",
       "    </tr>\n",
       "    <tr>\n",
       "      <th>2</th>\n",
       "      <td>1.623129</td>\n",
       "      <td>8</td>\n",
       "      <td>364</td>\n",
       "      <td>16</td>\n",
       "      <td>13186</td>\n",
       "      <td>0</td>\n",
       "    </tr>\n",
       "    <tr>\n",
       "      <th>3</th>\n",
       "      <td>1.681642</td>\n",
       "      <td>12</td>\n",
       "      <td>628</td>\n",
       "      <td>12</td>\n",
       "      <td>770</td>\n",
       "      <td>0</td>\n",
       "    </tr>\n",
       "    <tr>\n",
       "      <th>4</th>\n",
       "      <td>0.449454</td>\n",
       "      <td>10</td>\n",
       "      <td>534</td>\n",
       "      <td>6</td>\n",
       "      <td>268</td>\n",
       "      <td>0</td>\n",
       "    </tr>\n",
       "    <tr>\n",
       "      <th>...</th>\n",
       "      <td>...</td>\n",
       "      <td>...</td>\n",
       "      <td>...</td>\n",
       "      <td>...</td>\n",
       "      <td>...</td>\n",
       "      <td>...</td>\n",
       "    </tr>\n",
       "    <tr>\n",
       "      <th>257668</th>\n",
       "      <td>0.000005</td>\n",
       "      <td>2</td>\n",
       "      <td>104</td>\n",
       "      <td>0</td>\n",
       "      <td>0</td>\n",
       "      <td>0</td>\n",
       "    </tr>\n",
       "    <tr>\n",
       "      <th>257669</th>\n",
       "      <td>1.106101</td>\n",
       "      <td>20</td>\n",
       "      <td>18062</td>\n",
       "      <td>8</td>\n",
       "      <td>354</td>\n",
       "      <td>0</td>\n",
       "    </tr>\n",
       "    <tr>\n",
       "      <th>257670</th>\n",
       "      <td>0.000000</td>\n",
       "      <td>1</td>\n",
       "      <td>46</td>\n",
       "      <td>0</td>\n",
       "      <td>0</td>\n",
       "      <td>0</td>\n",
       "    </tr>\n",
       "    <tr>\n",
       "      <th>257671</th>\n",
       "      <td>0.000000</td>\n",
       "      <td>1</td>\n",
       "      <td>46</td>\n",
       "      <td>0</td>\n",
       "      <td>0</td>\n",
       "      <td>0</td>\n",
       "    </tr>\n",
       "    <tr>\n",
       "      <th>257672</th>\n",
       "      <td>0.000009</td>\n",
       "      <td>2</td>\n",
       "      <td>104</td>\n",
       "      <td>0</td>\n",
       "      <td>0</td>\n",
       "      <td>0</td>\n",
       "    </tr>\n",
       "  </tbody>\n",
       "</table>\n",
       "<p>257673 rows × 6 columns</p>\n",
       "</div>"
      ],
      "text/plain": [
       "        duration  orig_pkts  orig_ip_bytes  resp_pkts  resp_ip_bytes  label\n",
       "0       0.121478          6            258          4            172      0\n",
       "1       0.649902         14            734         38          42014      0\n",
       "2       1.623129          8            364         16          13186      0\n",
       "3       1.681642         12            628         12            770      0\n",
       "4       0.449454         10            534          6            268      0\n",
       "...          ...        ...            ...        ...            ...    ...\n",
       "257668  0.000005          2            104          0              0      0\n",
       "257669  1.106101         20          18062          8            354      0\n",
       "257670  0.000000          1             46          0              0      0\n",
       "257671  0.000000          1             46          0              0      0\n",
       "257672  0.000009          2            104          0              0      0\n",
       "\n",
       "[257673 rows x 6 columns]"
      ]
     },
     "execution_count": 23,
     "metadata": {},
     "output_type": "execute_result"
    }
   ],
   "source": [
    "df_new"
   ]
  },
  {
   "cell_type": "code",
   "execution_count": 23,
   "metadata": {},
   "outputs": [],
   "source": [
    "#df_new = df_new[['duration','orig_pkts','orig_ip_bytes','resp_pkts','resp_ip_bytes','label']]\n",
    "#df_new.to_pickle('unsw-small.pickle')"
   ]
  },
  {
   "cell_type": "code",
   "execution_count": 24,
   "metadata": {},
   "outputs": [],
   "source": [
    "#df_test.proto.unique()"
   ]
  },
  {
   "cell_type": "code",
   "execution_count": 24,
   "metadata": {},
   "outputs": [
    {
     "data": {
      "text/html": [
       "<div>\n",
       "<style scoped>\n",
       "    .dataframe tbody tr th:only-of-type {\n",
       "        vertical-align: middle;\n",
       "    }\n",
       "\n",
       "    .dataframe tbody tr th {\n",
       "        vertical-align: top;\n",
       "    }\n",
       "\n",
       "    .dataframe thead th {\n",
       "        text-align: right;\n",
       "    }\n",
       "</style>\n",
       "<table border=\"1\" class=\"dataframe\">\n",
       "  <thead>\n",
       "    <tr style=\"text-align: right;\">\n",
       "      <th></th>\n",
       "      <th>duration</th>\n",
       "      <th>orig_pkts</th>\n",
       "      <th>orig_ip_bytes</th>\n",
       "      <th>resp_pkts</th>\n",
       "      <th>resp_ip_bytes</th>\n",
       "      <th>label</th>\n",
       "    </tr>\n",
       "  </thead>\n",
       "  <tbody>\n",
       "    <tr>\n",
       "      <th>0</th>\n",
       "      <td>0.121478</td>\n",
       "      <td>6</td>\n",
       "      <td>258</td>\n",
       "      <td>4</td>\n",
       "      <td>172</td>\n",
       "      <td>0</td>\n",
       "    </tr>\n",
       "    <tr>\n",
       "      <th>1</th>\n",
       "      <td>0.649902</td>\n",
       "      <td>14</td>\n",
       "      <td>734</td>\n",
       "      <td>38</td>\n",
       "      <td>42014</td>\n",
       "      <td>0</td>\n",
       "    </tr>\n",
       "    <tr>\n",
       "      <th>2</th>\n",
       "      <td>1.623129</td>\n",
       "      <td>8</td>\n",
       "      <td>364</td>\n",
       "      <td>16</td>\n",
       "      <td>13186</td>\n",
       "      <td>0</td>\n",
       "    </tr>\n",
       "    <tr>\n",
       "      <th>3</th>\n",
       "      <td>1.681642</td>\n",
       "      <td>12</td>\n",
       "      <td>628</td>\n",
       "      <td>12</td>\n",
       "      <td>770</td>\n",
       "      <td>0</td>\n",
       "    </tr>\n",
       "    <tr>\n",
       "      <th>4</th>\n",
       "      <td>0.449454</td>\n",
       "      <td>10</td>\n",
       "      <td>534</td>\n",
       "      <td>6</td>\n",
       "      <td>268</td>\n",
       "      <td>0</td>\n",
       "    </tr>\n",
       "    <tr>\n",
       "      <th>...</th>\n",
       "      <td>...</td>\n",
       "      <td>...</td>\n",
       "      <td>...</td>\n",
       "      <td>...</td>\n",
       "      <td>...</td>\n",
       "      <td>...</td>\n",
       "    </tr>\n",
       "    <tr>\n",
       "      <th>257668</th>\n",
       "      <td>0.000005</td>\n",
       "      <td>2</td>\n",
       "      <td>104</td>\n",
       "      <td>0</td>\n",
       "      <td>0</td>\n",
       "      <td>0</td>\n",
       "    </tr>\n",
       "    <tr>\n",
       "      <th>257669</th>\n",
       "      <td>1.106101</td>\n",
       "      <td>20</td>\n",
       "      <td>18062</td>\n",
       "      <td>8</td>\n",
       "      <td>354</td>\n",
       "      <td>0</td>\n",
       "    </tr>\n",
       "    <tr>\n",
       "      <th>257670</th>\n",
       "      <td>0.000000</td>\n",
       "      <td>1</td>\n",
       "      <td>46</td>\n",
       "      <td>0</td>\n",
       "      <td>0</td>\n",
       "      <td>0</td>\n",
       "    </tr>\n",
       "    <tr>\n",
       "      <th>257671</th>\n",
       "      <td>0.000000</td>\n",
       "      <td>1</td>\n",
       "      <td>46</td>\n",
       "      <td>0</td>\n",
       "      <td>0</td>\n",
       "      <td>0</td>\n",
       "    </tr>\n",
       "    <tr>\n",
       "      <th>257672</th>\n",
       "      <td>0.000009</td>\n",
       "      <td>2</td>\n",
       "      <td>104</td>\n",
       "      <td>0</td>\n",
       "      <td>0</td>\n",
       "      <td>0</td>\n",
       "    </tr>\n",
       "  </tbody>\n",
       "</table>\n",
       "<p>257673 rows × 6 columns</p>\n",
       "</div>"
      ],
      "text/plain": [
       "        duration  orig_pkts  orig_ip_bytes  resp_pkts  resp_ip_bytes  label\n",
       "0       0.121478          6            258          4            172      0\n",
       "1       0.649902         14            734         38          42014      0\n",
       "2       1.623129          8            364         16          13186      0\n",
       "3       1.681642         12            628         12            770      0\n",
       "4       0.449454         10            534          6            268      0\n",
       "...          ...        ...            ...        ...            ...    ...\n",
       "257668  0.000005          2            104          0              0      0\n",
       "257669  1.106101         20          18062          8            354      0\n",
       "257670  0.000000          1             46          0              0      0\n",
       "257671  0.000000          1             46          0              0      0\n",
       "257672  0.000009          2            104          0              0      0\n",
       "\n",
       "[257673 rows x 6 columns]"
      ]
     },
     "execution_count": 24,
     "metadata": {},
     "output_type": "execute_result"
    }
   ],
   "source": [
    "df_new"
   ]
  },
  {
   "cell_type": "code",
   "execution_count": 25,
   "metadata": {},
   "outputs": [],
   "source": [
    "import joblib\n",
    "#joblib.dump(rf, \"./random_forest.joblib\")\n",
    "loaded_rf = joblib.load(\"../model/random_forest.joblib\")"
   ]
  },
  {
   "cell_type": "code",
   "execution_count": 26,
   "metadata": {},
   "outputs": [],
   "source": [
    "#del df_david['orig_bytes']\n",
    "#del df_david['resp_bytes']"
   ]
  },
  {
   "cell_type": "code",
   "execution_count": 28,
   "metadata": {},
   "outputs": [],
   "source": [
    "df_david.info()"
   ]
  },
  {
   "cell_type": "code",
   "execution_count": 29,
   "metadata": {},
   "outputs": [],
   "source": [
    "df_david.to_pickle('davidsSet.pickle')"
   ]
  },
  {
   "cell_type": "code",
   "execution_count": 30,
   "metadata": {},
   "outputs": [],
   "source": [
    "#df_david['duration'] = pd.to_numeric(df['duration'],errors='coerce')\n",
    "#df_david['duration'] = df_david['duration'].astype(float)\n",
    "count = 0\n",
    "df_david['duration'] = [0.0 if isinstance(x,str) else x for x in df_david['duration']]\n",
    "\n"
   ]
  },
  {
   "cell_type": "code",
   "execution_count": 29,
   "metadata": {},
   "outputs": [],
   "source": [
    "results = loaded_rf.predict(df_david)"
   ]
  },
  {
   "cell_type": "code",
   "execution_count": 30,
   "metadata": {},
   "outputs": [
    {
     "name": "stderr",
     "output_type": "stream",
     "text": [
      "<ipython-input-30-cf133fa25b5a>:1: SettingWithCopyWarning: \n",
      "A value is trying to be set on a copy of a slice from a DataFrame.\n",
      "Try using .loc[row_indexer,col_indexer] = value instead\n",
      "\n",
      "See the caveats in the documentation: https://pandas.pydata.org/pandas-docs/stable/user_guide/indexing.html#returning-a-view-versus-a-copy\n",
      "  df_david[\"prediction\"] = 0.0\n"
     ]
    }
   ],
   "source": [
    "df_david[\"prediction\"] = 0.0"
   ]
  },
  {
   "cell_type": "code",
   "execution_count": 31,
   "metadata": {},
   "outputs": [],
   "source": [
    "df[\"prediction\"] = 0.0"
   ]
  },
  {
   "cell_type": "code",
   "execution_count": 32,
   "metadata": {},
   "outputs": [
    {
     "name": "stderr",
     "output_type": "stream",
     "text": [
      "<ipython-input-32-9a547dc4d379>:2: SettingWithCopyWarning: \n",
      "A value is trying to be set on a copy of a slice from a DataFrame\n",
      "\n",
      "See the caveats in the documentation: https://pandas.pydata.org/pandas-docs/stable/user_guide/indexing.html#returning-a-view-versus-a-copy\n",
      "  df[\"prediction\"][i] = results[i]\n"
     ]
    }
   ],
   "source": [
    "for i in range(len(results)):\n",
    "    df[\"prediction\"][i] = results[i] "
   ]
  },
  {
   "cell_type": "code",
   "execution_count": 33,
   "metadata": {},
   "outputs": [],
   "source": [
    "df.to_pickle('connlog-with-prediction.pickle')"
   ]
  },
  {
   "cell_type": "code",
   "execution_count": 34,
   "metadata": {},
   "outputs": [
    {
     "data": {
      "text/plain": [
       "475592"
      ]
     },
     "execution_count": 34,
     "metadata": {},
     "output_type": "execute_result"
    }
   ],
   "source": [
    "len(df_david)"
   ]
  },
  {
   "cell_type": "code",
   "execution_count": 35,
   "metadata": {},
   "outputs": [
    {
     "data": {
      "text/plain": [
       "475592"
      ]
     },
     "execution_count": 35,
     "metadata": {},
     "output_type": "execute_result"
    }
   ],
   "source": [
    "len(results)"
   ]
  },
  {
   "cell_type": "code",
   "execution_count": 36,
   "metadata": {},
   "outputs": [
    {
     "name": "stderr",
     "output_type": "stream",
     "text": [
      "<ipython-input-36-e61857a9eb71>:2: SettingWithCopyWarning: \n",
      "A value is trying to be set on a copy of a slice from a DataFrame\n",
      "\n",
      "See the caveats in the documentation: https://pandas.pydata.org/pandas-docs/stable/user_guide/indexing.html#returning-a-view-versus-a-copy\n",
      "  df_david[\"prediction\"][i] = results[i]\n",
      "/home/micha/anaconda3/envs/hackathon2/lib/python3.8/site-packages/IPython/core/interactiveshell.py:3418: SettingWithCopyWarning: \n",
      "A value is trying to be set on a copy of a slice from a DataFrame\n",
      "\n",
      "See the caveats in the documentation: https://pandas.pydata.org/pandas-docs/stable/user_guide/indexing.html#returning-a-view-versus-a-copy\n",
      "  exec(code_obj, self.user_global_ns, self.user_ns)\n"
     ]
    }
   ],
   "source": [
    "for i in range(len(results)):\n",
    "    df_david[\"prediction\"][i] = results[i] "
   ]
  },
  {
   "cell_type": "code",
   "execution_count": 37,
   "metadata": {},
   "outputs": [
    {
     "data": {
      "text/plain": [
       "count    475592.000000\n",
       "mean          0.142641\n",
       "std           0.349707\n",
       "min           0.000000\n",
       "25%           0.000000\n",
       "50%           0.000000\n",
       "75%           0.000000\n",
       "max           1.000000\n",
       "Name: prediction, dtype: float64"
      ]
     },
     "execution_count": 37,
     "metadata": {},
     "output_type": "execute_result"
    }
   ],
   "source": [
    "df_david.prediction.describe()"
   ]
  },
  {
   "cell_type": "code",
   "execution_count": 38,
   "metadata": {},
   "outputs": [
    {
     "data": {
      "text/html": [
       "<div>\n",
       "<style scoped>\n",
       "    .dataframe tbody tr th:only-of-type {\n",
       "        vertical-align: middle;\n",
       "    }\n",
       "\n",
       "    .dataframe tbody tr th {\n",
       "        vertical-align: top;\n",
       "    }\n",
       "\n",
       "    .dataframe thead th {\n",
       "        text-align: right;\n",
       "    }\n",
       "</style>\n",
       "<table border=\"1\" class=\"dataframe\">\n",
       "  <thead>\n",
       "    <tr style=\"text-align: right;\">\n",
       "      <th></th>\n",
       "      <th>duration</th>\n",
       "      <th>orig_pkts</th>\n",
       "      <th>orig_ip_bytes</th>\n",
       "      <th>resp_pkts</th>\n",
       "      <th>resp_ip_bytes</th>\n",
       "      <th>prediction</th>\n",
       "    </tr>\n",
       "  </thead>\n",
       "  <tbody>\n",
       "    <tr>\n",
       "      <th>7</th>\n",
       "      <td>209.875541</td>\n",
       "      <td>151036</td>\n",
       "      <td>2485906334</td>\n",
       "      <td>181125</td>\n",
       "      <td>9429656</td>\n",
       "      <td>1.0</td>\n",
       "    </tr>\n",
       "    <tr>\n",
       "      <th>10</th>\n",
       "      <td>26411.548384</td>\n",
       "      <td>0</td>\n",
       "      <td>0</td>\n",
       "      <td>2642</td>\n",
       "      <td>137576</td>\n",
       "      <td>1.0</td>\n",
       "    </tr>\n",
       "    <tr>\n",
       "      <th>13</th>\n",
       "      <td>22334.079740</td>\n",
       "      <td>0</td>\n",
       "      <td>0</td>\n",
       "      <td>10066</td>\n",
       "      <td>589936</td>\n",
       "      <td>1.0</td>\n",
       "    </tr>\n",
       "    <tr>\n",
       "      <th>118</th>\n",
       "      <td>232.883177</td>\n",
       "      <td>171676</td>\n",
       "      <td>2825660852</td>\n",
       "      <td>201907</td>\n",
       "      <td>10507844</td>\n",
       "      <td>1.0</td>\n",
       "    </tr>\n",
       "    <tr>\n",
       "      <th>167</th>\n",
       "      <td>6.543828</td>\n",
       "      <td>883</td>\n",
       "      <td>103540</td>\n",
       "      <td>98</td>\n",
       "      <td>2150104</td>\n",
       "      <td>1.0</td>\n",
       "    </tr>\n",
       "    <tr>\n",
       "      <th>...</th>\n",
       "      <td>...</td>\n",
       "      <td>...</td>\n",
       "      <td>...</td>\n",
       "      <td>...</td>\n",
       "      <td>...</td>\n",
       "      <td>...</td>\n",
       "    </tr>\n",
       "    <tr>\n",
       "      <th>475463</th>\n",
       "      <td>55.150433</td>\n",
       "      <td>11</td>\n",
       "      <td>615</td>\n",
       "      <td>4</td>\n",
       "      <td>160</td>\n",
       "      <td>1.0</td>\n",
       "    </tr>\n",
       "    <tr>\n",
       "      <th>475465</th>\n",
       "      <td>55.077840</td>\n",
       "      <td>11</td>\n",
       "      <td>615</td>\n",
       "      <td>4</td>\n",
       "      <td>160</td>\n",
       "      <td>1.0</td>\n",
       "    </tr>\n",
       "    <tr>\n",
       "      <th>475505</th>\n",
       "      <td>54.953765</td>\n",
       "      <td>11</td>\n",
       "      <td>615</td>\n",
       "      <td>5</td>\n",
       "      <td>200</td>\n",
       "      <td>1.0</td>\n",
       "    </tr>\n",
       "    <tr>\n",
       "      <th>475513</th>\n",
       "      <td>54.856970</td>\n",
       "      <td>10</td>\n",
       "      <td>551</td>\n",
       "      <td>3</td>\n",
       "      <td>120</td>\n",
       "      <td>1.0</td>\n",
       "    </tr>\n",
       "    <tr>\n",
       "      <th>475545</th>\n",
       "      <td>55.153293</td>\n",
       "      <td>11</td>\n",
       "      <td>615</td>\n",
       "      <td>5</td>\n",
       "      <td>200</td>\n",
       "      <td>1.0</td>\n",
       "    </tr>\n",
       "  </tbody>\n",
       "</table>\n",
       "<p>67839 rows × 6 columns</p>\n",
       "</div>"
      ],
      "text/plain": [
       "            duration  orig_pkts  orig_ip_bytes  resp_pkts  resp_ip_bytes  \\\n",
       "7         209.875541     151036     2485906334     181125        9429656   \n",
       "10      26411.548384          0              0       2642         137576   \n",
       "13      22334.079740          0              0      10066         589936   \n",
       "118       232.883177     171676     2825660852     201907       10507844   \n",
       "167         6.543828        883         103540         98        2150104   \n",
       "...              ...        ...            ...        ...            ...   \n",
       "475463     55.150433         11            615          4            160   \n",
       "475465     55.077840         11            615          4            160   \n",
       "475505     54.953765         11            615          5            200   \n",
       "475513     54.856970         10            551          3            120   \n",
       "475545     55.153293         11            615          5            200   \n",
       "\n",
       "        prediction  \n",
       "7              1.0  \n",
       "10             1.0  \n",
       "13             1.0  \n",
       "118            1.0  \n",
       "167            1.0  \n",
       "...            ...  \n",
       "475463         1.0  \n",
       "475465         1.0  \n",
       "475505         1.0  \n",
       "475513         1.0  \n",
       "475545         1.0  \n",
       "\n",
       "[67839 rows x 6 columns]"
      ]
     },
     "execution_count": 38,
     "metadata": {},
     "output_type": "execute_result"
    }
   ],
   "source": [
    "df_david[df_david.prediction>=0.99]"
   ]
  },
  {
   "cell_type": "code",
   "execution_count": 40,
   "metadata": {},
   "outputs": [],
   "source": [
    "import numpy as np\n",
    "import pandas as pd\n",
    "from pandas_profiling import ProfileReport"
   ]
  },
  {
   "cell_type": "code",
   "execution_count": 41,
   "metadata": {},
   "outputs": [
    {
     "name": "stderr",
     "output_type": "stream",
     "text": [
      "/home/micha/anaconda3/envs/hackathon2/lib/python3.8/site-packages/pandas/core/frame.py:4300: SettingWithCopyWarning: \n",
      "A value is trying to be set on a copy of a slice from a DataFrame\n",
      "\n",
      "See the caveats in the documentation: https://pandas.pydata.org/pandas-docs/stable/user_guide/indexing.html#returning-a-view-versus-a-copy\n",
      "  return super().rename(\n"
     ]
    }
   ],
   "source": [
    "profile = ProfileReport(df_david, title='Prediction Profiling Report', minimal=True)"
   ]
  },
  {
   "cell_type": "code",
   "execution_count": 42,
   "metadata": {},
   "outputs": [
    {
     "data": {
      "text/plain": [
       "pandas_profiling.profile_report.ProfileReport"
      ]
     },
     "execution_count": 42,
     "metadata": {},
     "output_type": "execute_result"
    }
   ],
   "source": [
    "type(profile)"
   ]
  },
  {
   "cell_type": "code",
   "execution_count": 43,
   "metadata": {},
   "outputs": [
    {
     "data": {
      "application/vnd.jupyter.widget-view+json": {
       "model_id": "22cccaba569f4d409fa9864c23bdaf7a",
       "version_major": 2,
       "version_minor": 0
      },
      "text/plain": [
       "HBox(children=(HTML(value='Summarize dataset'), FloatProgress(value=0.0, max=15.0), HTML(value='')))"
      ]
     },
     "metadata": {},
     "output_type": "display_data"
    },
    {
     "name": "stdout",
     "output_type": "stream",
     "text": [
      "\n"
     ]
    },
    {
     "data": {
      "application/vnd.jupyter.widget-view+json": {
       "model_id": "903341596b8e42c4aa4a6eef2e1eb279",
       "version_major": 2,
       "version_minor": 0
      },
      "text/plain": [
       "HBox(children=(HTML(value='Generate report structure'), FloatProgress(value=0.0, max=1.0), HTML(value='')))"
      ]
     },
     "metadata": {},
     "output_type": "display_data"
    },
    {
     "name": "stdout",
     "output_type": "stream",
     "text": [
      "\n"
     ]
    },
    {
     "data": {
      "application/vnd.jupyter.widget-view+json": {
       "model_id": "d567f4fa40794687b75af27379abd815",
       "version_major": 2,
       "version_minor": 0
      },
      "text/plain": [
       "HBox(children=(HTML(value='Render HTML'), FloatProgress(value=0.0, max=1.0), HTML(value='')))"
      ]
     },
     "metadata": {},
     "output_type": "display_data"
    },
    {
     "name": "stdout",
     "output_type": "stream",
     "text": [
      "\n"
     ]
    },
    {
     "data": {
      "application/vnd.jupyter.widget-view+json": {
       "model_id": "dedba84aebfc4f0db82d6c17379be1be",
       "version_major": 2,
       "version_minor": 0
      },
      "text/plain": [
       "HBox(children=(HTML(value='Export report to file'), FloatProgress(value=0.0, max=1.0), HTML(value='')))"
      ]
     },
     "metadata": {},
     "output_type": "display_data"
    },
    {
     "name": "stdout",
     "output_type": "stream",
     "text": [
      "\n"
     ]
    }
   ],
   "source": [
    "profile.to_file(\"../PredictionProfiling.html\")"
   ]
  },
  {
   "cell_type": "code",
   "execution_count": null,
   "metadata": {},
   "outputs": [],
   "source": [
    "#profile = ProfileReport(df_test, title='TestSet Profiling Report')"
   ]
  },
  {
   "cell_type": "code",
   "execution_count": null,
   "metadata": {},
   "outputs": [],
   "source": [
    "#profile.to_file(\"ProfileTest.html\")"
   ]
  }
 ],
 "metadata": {
  "kernelspec": {
   "display_name": "Python 3",
   "language": "python",
   "name": "python3"
  },
  "language_info": {
   "codemirror_mode": {
    "name": "ipython",
    "version": 3
   },
   "file_extension": ".py",
   "mimetype": "text/x-python",
   "name": "python",
   "nbconvert_exporter": "python",
   "pygments_lexer": "ipython3",
   "version": "3.8.5"
  }
 },
 "nbformat": 4,
 "nbformat_minor": 4
}
